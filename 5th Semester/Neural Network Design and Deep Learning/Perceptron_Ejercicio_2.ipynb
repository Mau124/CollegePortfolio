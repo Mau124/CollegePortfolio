{
  "nbformat": 4,
  "nbformat_minor": 0,
  "metadata": {
    "colab": {
      "provenance": [],
      "collapsed_sections": []
    },
    "kernelspec": {
      "name": "python3",
      "display_name": "Python 3"
    },
    "language_info": {
      "name": "python"
    }
  },
  "cells": [
    {
      "cell_type": "markdown",
      "source": [
        "# Ejercicio 2"
      ],
      "metadata": {
        "id": "DzPM4SHJAEXk"
      }
    },
    {
      "cell_type": "markdown",
      "source": [
        "Tom Arc - A01562405 <br />\n",
        "Alejandro hermosillo - A01634552 <br />\n",
        "Mauricio Flores - A01639917"
      ],
      "metadata": {
        "id": "NghW7EreAIZF"
      }
    },
    {
      "cell_type": "code",
      "source": [
        "import numpy as np\n",
        "import pandas as pd\n",
        "\n",
        "from sklearn.metrics import accuracy_score\n",
        "from sklearn.model_selection import KFold\n",
        "from sklearn.metrics import mean_squared_error\n",
        "from sklearn.model_selection import StratifiedKFold\n",
        "\n",
        "import matplotlib.pyplot as plt"
      ],
      "metadata": {
        "id": "3uzXtGuxPEqu"
      },
      "execution_count": 1,
      "outputs": []
    },
    {
      "cell_type": "code",
      "source": [
        "from google.colab import drive\n",
        "drive.mount('/content/drive')"
      ],
      "metadata": {
        "colab": {
          "base_uri": "https://localhost:8080/"
        },
        "id": "nSrRU0mbXPGS",
        "outputId": "fd684c05-5bb4-4b9b-b9dd-56707c2fd33c"
      },
      "execution_count": 2,
      "outputs": [
        {
          "output_type": "stream",
          "name": "stdout",
          "text": [
            "Mounted at /content/drive\n"
          ]
        }
      ]
    },
    {
      "cell_type": "code",
      "source": [
        "def discrete_perceptron(alpha, y, y_pred, X):\n",
        "  return alpha*(y-y_pred)*X\n",
        "\n",
        "def svm(alpha, y, y_pred, X):\n",
        "\n",
        "  if y*y_pred < 1:\n",
        "    tmp = 1\n",
        "  else:\n",
        "    tmp = 0\n",
        "    \n",
        "  return alpha*y*X*tmp"
      ],
      "metadata": {
        "id": "IEpMA7Q9VypY"
      },
      "execution_count": 3,
      "outputs": []
    },
    {
      "cell_type": "code",
      "execution_count": 43,
      "metadata": {
        "id": "aNezyVCsNPCC"
      },
      "outputs": [],
      "source": [
        "class Perceptron:\n",
        "\n",
        "  def __init__(self, learning_rule, solver = 'sgd', batch_size = 1, alpha = 0.0002):\n",
        "    self.learning_rule = learning_rule\n",
        "    self.solver = solver\n",
        "    self.batch_size = batch_size\n",
        "    self.alpha = alpha\n",
        "\n",
        "  def fit(self, X, y, X_test, y_test, epochs):\n",
        "    \n",
        "    if self.solver == 'sgd':\n",
        "      self.batch_size = 1\n",
        "    elif self.solver == 'bgd':\n",
        "      self.batch_size = X.shape[0]-1\n",
        "    elif self.solver != 'mbgd':\n",
        "      print('Warning: Solver not found')\n",
        "\n",
        "    self.W = np.random.rand((X.shape[1]))*2-1\n",
        "    self.errors = np.zeros((epochs))\n",
        "    for i in range(epochs):\n",
        "      indices = np.arange(X.shape[0])\n",
        "      np.random.shuffle(indices)\n",
        "      X = X[indices]\n",
        "      y = y[indices]\n",
        "      diff_w = np.zeros(X.shape[1])\n",
        "      for j in range(X.shape[0]):\n",
        "        y_pred = np.sign(np.dot(self.W, X[j]))\n",
        "        \n",
        "        if y[j] != y_pred:\n",
        "          diff_w += self.learning_rule(self.alpha, y[j], y_pred, X[j])\n",
        "        \n",
        "        if j != 0 and j % self.batch_size == 0:\n",
        "          self.W += diff_w\n",
        "          diff_w = np.zeros(X.shape[1]) \n",
        "\n",
        "      self.W += diff_w\n",
        "      self.errors[i] = accuracy_score(y_test, self.predict(X_test))\n",
        "\n",
        "  def predict(self, X):\n",
        "    y_pred = []\n",
        "    for i in range(X.shape[0]):\n",
        "      y_pred.append(np.sign(np.dot(self.W, X[i])))\n",
        "\n",
        "    return np.array(y_pred)"
      ]
    },
    {
      "cell_type": "code",
      "source": [
        "data = pd.read_csv('/content/drive/Shareddrives/Redes neuronales/data/misterious_data_1.txt', sep=\"\\t\", header=None)"
      ],
      "metadata": {
        "id": "ekak7TVCXLiY"
      },
      "execution_count": 5,
      "outputs": []
    },
    {
      "cell_type": "code",
      "source": [
        "data"
      ],
      "metadata": {
        "colab": {
          "base_uri": "https://localhost:8080/",
          "height": 487
        },
        "id": "FEbvNpJNXtAq",
        "outputId": "80923b49-211e-4e57-b48b-05a747e0f73e"
      },
      "execution_count": 6,
      "outputs": [
        {
          "output_type": "execute_result",
          "data": {
            "text/plain": [
              "     0         1         2         3         4         5         6    \\\n",
              "0      1  0.469168  0.178952  0.255712  0.744816  1.246886  1.254866   \n",
              "1      1  0.184388  0.194901  0.386090  0.796802  1.066347  0.799498   \n",
              "2      1 -0.173341  0.145202 -0.304082 -1.414886 -2.213521 -1.913048   \n",
              "3      1 -0.268590  0.599522  1.307578  1.167486  0.251935 -0.585627   \n",
              "4      1  2.525379  2.852672  2.172197  0.637552 -0.600348 -0.702175   \n",
              "..   ...       ...       ...       ...       ...       ...       ...   \n",
              "523    2 -0.247813 -1.636876 -1.686496 -0.851443 -0.189284 -0.175917   \n",
              "524    2  0.073005 -0.521397 -1.092433 -1.111963 -0.473837  0.176168   \n",
              "525    2 -0.904484  0.158150  1.423261  2.229514  2.251798  1.672233   \n",
              "526    2 -0.393102 -0.008132  0.270135  0.200096  0.000654  0.042362   \n",
              "527    2 -0.921018 -0.442225  0.210401  0.573214  0.497781  0.280553   \n",
              "\n",
              "          7         8         9    ...       144       145       146  \\\n",
              "0    0.804426  0.412733  0.258974  ...  0.993407 -0.592111 -1.301687   \n",
              "1    0.074394 -0.544738 -0.580456  ... -0.003908 -0.167604 -0.428945   \n",
              "2   -0.831063 -0.007732  0.002380  ...  1.902134  3.393694  3.131702   \n",
              "3   -0.553452  0.185590  0.613321  ... -1.296833 -0.876860 -1.043880   \n",
              "4   -0.074887  0.279032 -0.025487  ... -0.890283 -0.624969 -0.753863   \n",
              "..        ...       ...       ...  ...       ...       ...       ...   \n",
              "523 -0.612440 -1.132900 -1.399937  ... -0.301084 -0.253173 -0.068328   \n",
              "524  0.095479 -0.618298 -1.080112  ...  0.246759  0.079766 -0.293788   \n",
              "525  1.008534  0.678230  0.655435  ... -0.832072 -0.794224 -0.913966   \n",
              "526  0.569617  1.473273  2.188128  ...  1.352715  0.236024 -0.595686   \n",
              "527  0.196904  0.137830 -0.119949  ... -0.658330 -1.174323 -1.589451   \n",
              "\n",
              "          147       148       149       150       151       152       153  \n",
              "0   -1.066966 -0.722061 -0.622120 -0.396476  0.133550  0.594973  0.691093  \n",
              "1   -0.725686 -1.053406 -1.276862 -1.183251 -0.693138  0.016754  0.573650  \n",
              "2    1.403325 -0.030289 -0.271096 -0.198293 -0.751224 -1.350148 -0.882644  \n",
              "3   -1.516590 -1.531095 -1.016308 -0.483549 -0.267818 -0.367672 -0.666145  \n",
              "4   -0.854603 -0.736751 -0.614611 -0.587151 -0.409589  0.087732  0.646462  \n",
              "..        ...       ...       ...       ...       ...       ...       ...  \n",
              "523  0.651730  1.447875  1.344575  0.265519 -0.599335 -0.294434  0.653921  \n",
              "524 -0.488293 -0.429789 -0.361705 -0.473447 -0.694671 -0.814194 -0.709706  \n",
              "525 -0.968323 -0.605201  0.074039  0.539398  0.548744  0.461137  0.636099  \n",
              "526 -0.896065 -0.694218 -0.239846  0.142306  0.190111 -0.167468 -0.708688  \n",
              "527 -1.402060 -0.874989 -0.751664 -1.211682 -1.651136 -1.560644 -1.119380  \n",
              "\n",
              "[528 rows x 154 columns]"
            ],
            "text/html": [
              "\n",
              "  <div id=\"df-0e8e524c-976f-4b95-965e-36ef6e1ac070\">\n",
              "    <div class=\"colab-df-container\">\n",
              "      <div>\n",
              "<style scoped>\n",
              "    .dataframe tbody tr th:only-of-type {\n",
              "        vertical-align: middle;\n",
              "    }\n",
              "\n",
              "    .dataframe tbody tr th {\n",
              "        vertical-align: top;\n",
              "    }\n",
              "\n",
              "    .dataframe thead th {\n",
              "        text-align: right;\n",
              "    }\n",
              "</style>\n",
              "<table border=\"1\" class=\"dataframe\">\n",
              "  <thead>\n",
              "    <tr style=\"text-align: right;\">\n",
              "      <th></th>\n",
              "      <th>0</th>\n",
              "      <th>1</th>\n",
              "      <th>2</th>\n",
              "      <th>3</th>\n",
              "      <th>4</th>\n",
              "      <th>5</th>\n",
              "      <th>6</th>\n",
              "      <th>7</th>\n",
              "      <th>8</th>\n",
              "      <th>9</th>\n",
              "      <th>...</th>\n",
              "      <th>144</th>\n",
              "      <th>145</th>\n",
              "      <th>146</th>\n",
              "      <th>147</th>\n",
              "      <th>148</th>\n",
              "      <th>149</th>\n",
              "      <th>150</th>\n",
              "      <th>151</th>\n",
              "      <th>152</th>\n",
              "      <th>153</th>\n",
              "    </tr>\n",
              "  </thead>\n",
              "  <tbody>\n",
              "    <tr>\n",
              "      <th>0</th>\n",
              "      <td>1</td>\n",
              "      <td>0.469168</td>\n",
              "      <td>0.178952</td>\n",
              "      <td>0.255712</td>\n",
              "      <td>0.744816</td>\n",
              "      <td>1.246886</td>\n",
              "      <td>1.254866</td>\n",
              "      <td>0.804426</td>\n",
              "      <td>0.412733</td>\n",
              "      <td>0.258974</td>\n",
              "      <td>...</td>\n",
              "      <td>0.993407</td>\n",
              "      <td>-0.592111</td>\n",
              "      <td>-1.301687</td>\n",
              "      <td>-1.066966</td>\n",
              "      <td>-0.722061</td>\n",
              "      <td>-0.622120</td>\n",
              "      <td>-0.396476</td>\n",
              "      <td>0.133550</td>\n",
              "      <td>0.594973</td>\n",
              "      <td>0.691093</td>\n",
              "    </tr>\n",
              "    <tr>\n",
              "      <th>1</th>\n",
              "      <td>1</td>\n",
              "      <td>0.184388</td>\n",
              "      <td>0.194901</td>\n",
              "      <td>0.386090</td>\n",
              "      <td>0.796802</td>\n",
              "      <td>1.066347</td>\n",
              "      <td>0.799498</td>\n",
              "      <td>0.074394</td>\n",
              "      <td>-0.544738</td>\n",
              "      <td>-0.580456</td>\n",
              "      <td>...</td>\n",
              "      <td>-0.003908</td>\n",
              "      <td>-0.167604</td>\n",
              "      <td>-0.428945</td>\n",
              "      <td>-0.725686</td>\n",
              "      <td>-1.053406</td>\n",
              "      <td>-1.276862</td>\n",
              "      <td>-1.183251</td>\n",
              "      <td>-0.693138</td>\n",
              "      <td>0.016754</td>\n",
              "      <td>0.573650</td>\n",
              "    </tr>\n",
              "    <tr>\n",
              "      <th>2</th>\n",
              "      <td>1</td>\n",
              "      <td>-0.173341</td>\n",
              "      <td>0.145202</td>\n",
              "      <td>-0.304082</td>\n",
              "      <td>-1.414886</td>\n",
              "      <td>-2.213521</td>\n",
              "      <td>-1.913048</td>\n",
              "      <td>-0.831063</td>\n",
              "      <td>-0.007732</td>\n",
              "      <td>0.002380</td>\n",
              "      <td>...</td>\n",
              "      <td>1.902134</td>\n",
              "      <td>3.393694</td>\n",
              "      <td>3.131702</td>\n",
              "      <td>1.403325</td>\n",
              "      <td>-0.030289</td>\n",
              "      <td>-0.271096</td>\n",
              "      <td>-0.198293</td>\n",
              "      <td>-0.751224</td>\n",
              "      <td>-1.350148</td>\n",
              "      <td>-0.882644</td>\n",
              "    </tr>\n",
              "    <tr>\n",
              "      <th>3</th>\n",
              "      <td>1</td>\n",
              "      <td>-0.268590</td>\n",
              "      <td>0.599522</td>\n",
              "      <td>1.307578</td>\n",
              "      <td>1.167486</td>\n",
              "      <td>0.251935</td>\n",
              "      <td>-0.585627</td>\n",
              "      <td>-0.553452</td>\n",
              "      <td>0.185590</td>\n",
              "      <td>0.613321</td>\n",
              "      <td>...</td>\n",
              "      <td>-1.296833</td>\n",
              "      <td>-0.876860</td>\n",
              "      <td>-1.043880</td>\n",
              "      <td>-1.516590</td>\n",
              "      <td>-1.531095</td>\n",
              "      <td>-1.016308</td>\n",
              "      <td>-0.483549</td>\n",
              "      <td>-0.267818</td>\n",
              "      <td>-0.367672</td>\n",
              "      <td>-0.666145</td>\n",
              "    </tr>\n",
              "    <tr>\n",
              "      <th>4</th>\n",
              "      <td>1</td>\n",
              "      <td>2.525379</td>\n",
              "      <td>2.852672</td>\n",
              "      <td>2.172197</td>\n",
              "      <td>0.637552</td>\n",
              "      <td>-0.600348</td>\n",
              "      <td>-0.702175</td>\n",
              "      <td>-0.074887</td>\n",
              "      <td>0.279032</td>\n",
              "      <td>-0.025487</td>\n",
              "      <td>...</td>\n",
              "      <td>-0.890283</td>\n",
              "      <td>-0.624969</td>\n",
              "      <td>-0.753863</td>\n",
              "      <td>-0.854603</td>\n",
              "      <td>-0.736751</td>\n",
              "      <td>-0.614611</td>\n",
              "      <td>-0.587151</td>\n",
              "      <td>-0.409589</td>\n",
              "      <td>0.087732</td>\n",
              "      <td>0.646462</td>\n",
              "    </tr>\n",
              "    <tr>\n",
              "      <th>...</th>\n",
              "      <td>...</td>\n",
              "      <td>...</td>\n",
              "      <td>...</td>\n",
              "      <td>...</td>\n",
              "      <td>...</td>\n",
              "      <td>...</td>\n",
              "      <td>...</td>\n",
              "      <td>...</td>\n",
              "      <td>...</td>\n",
              "      <td>...</td>\n",
              "      <td>...</td>\n",
              "      <td>...</td>\n",
              "      <td>...</td>\n",
              "      <td>...</td>\n",
              "      <td>...</td>\n",
              "      <td>...</td>\n",
              "      <td>...</td>\n",
              "      <td>...</td>\n",
              "      <td>...</td>\n",
              "      <td>...</td>\n",
              "      <td>...</td>\n",
              "    </tr>\n",
              "    <tr>\n",
              "      <th>523</th>\n",
              "      <td>2</td>\n",
              "      <td>-0.247813</td>\n",
              "      <td>-1.636876</td>\n",
              "      <td>-1.686496</td>\n",
              "      <td>-0.851443</td>\n",
              "      <td>-0.189284</td>\n",
              "      <td>-0.175917</td>\n",
              "      <td>-0.612440</td>\n",
              "      <td>-1.132900</td>\n",
              "      <td>-1.399937</td>\n",
              "      <td>...</td>\n",
              "      <td>-0.301084</td>\n",
              "      <td>-0.253173</td>\n",
              "      <td>-0.068328</td>\n",
              "      <td>0.651730</td>\n",
              "      <td>1.447875</td>\n",
              "      <td>1.344575</td>\n",
              "      <td>0.265519</td>\n",
              "      <td>-0.599335</td>\n",
              "      <td>-0.294434</td>\n",
              "      <td>0.653921</td>\n",
              "    </tr>\n",
              "    <tr>\n",
              "      <th>524</th>\n",
              "      <td>2</td>\n",
              "      <td>0.073005</td>\n",
              "      <td>-0.521397</td>\n",
              "      <td>-1.092433</td>\n",
              "      <td>-1.111963</td>\n",
              "      <td>-0.473837</td>\n",
              "      <td>0.176168</td>\n",
              "      <td>0.095479</td>\n",
              "      <td>-0.618298</td>\n",
              "      <td>-1.080112</td>\n",
              "      <td>...</td>\n",
              "      <td>0.246759</td>\n",
              "      <td>0.079766</td>\n",
              "      <td>-0.293788</td>\n",
              "      <td>-0.488293</td>\n",
              "      <td>-0.429789</td>\n",
              "      <td>-0.361705</td>\n",
              "      <td>-0.473447</td>\n",
              "      <td>-0.694671</td>\n",
              "      <td>-0.814194</td>\n",
              "      <td>-0.709706</td>\n",
              "    </tr>\n",
              "    <tr>\n",
              "      <th>525</th>\n",
              "      <td>2</td>\n",
              "      <td>-0.904484</td>\n",
              "      <td>0.158150</td>\n",
              "      <td>1.423261</td>\n",
              "      <td>2.229514</td>\n",
              "      <td>2.251798</td>\n",
              "      <td>1.672233</td>\n",
              "      <td>1.008534</td>\n",
              "      <td>0.678230</td>\n",
              "      <td>0.655435</td>\n",
              "      <td>...</td>\n",
              "      <td>-0.832072</td>\n",
              "      <td>-0.794224</td>\n",
              "      <td>-0.913966</td>\n",
              "      <td>-0.968323</td>\n",
              "      <td>-0.605201</td>\n",
              "      <td>0.074039</td>\n",
              "      <td>0.539398</td>\n",
              "      <td>0.548744</td>\n",
              "      <td>0.461137</td>\n",
              "      <td>0.636099</td>\n",
              "    </tr>\n",
              "    <tr>\n",
              "      <th>526</th>\n",
              "      <td>2</td>\n",
              "      <td>-0.393102</td>\n",
              "      <td>-0.008132</td>\n",
              "      <td>0.270135</td>\n",
              "      <td>0.200096</td>\n",
              "      <td>0.000654</td>\n",
              "      <td>0.042362</td>\n",
              "      <td>0.569617</td>\n",
              "      <td>1.473273</td>\n",
              "      <td>2.188128</td>\n",
              "      <td>...</td>\n",
              "      <td>1.352715</td>\n",
              "      <td>0.236024</td>\n",
              "      <td>-0.595686</td>\n",
              "      <td>-0.896065</td>\n",
              "      <td>-0.694218</td>\n",
              "      <td>-0.239846</td>\n",
              "      <td>0.142306</td>\n",
              "      <td>0.190111</td>\n",
              "      <td>-0.167468</td>\n",
              "      <td>-0.708688</td>\n",
              "    </tr>\n",
              "    <tr>\n",
              "      <th>527</th>\n",
              "      <td>2</td>\n",
              "      <td>-0.921018</td>\n",
              "      <td>-0.442225</td>\n",
              "      <td>0.210401</td>\n",
              "      <td>0.573214</td>\n",
              "      <td>0.497781</td>\n",
              "      <td>0.280553</td>\n",
              "      <td>0.196904</td>\n",
              "      <td>0.137830</td>\n",
              "      <td>-0.119949</td>\n",
              "      <td>...</td>\n",
              "      <td>-0.658330</td>\n",
              "      <td>-1.174323</td>\n",
              "      <td>-1.589451</td>\n",
              "      <td>-1.402060</td>\n",
              "      <td>-0.874989</td>\n",
              "      <td>-0.751664</td>\n",
              "      <td>-1.211682</td>\n",
              "      <td>-1.651136</td>\n",
              "      <td>-1.560644</td>\n",
              "      <td>-1.119380</td>\n",
              "    </tr>\n",
              "  </tbody>\n",
              "</table>\n",
              "<p>528 rows × 154 columns</p>\n",
              "</div>\n",
              "      <button class=\"colab-df-convert\" onclick=\"convertToInteractive('df-0e8e524c-976f-4b95-965e-36ef6e1ac070')\"\n",
              "              title=\"Convert this dataframe to an interactive table.\"\n",
              "              style=\"display:none;\">\n",
              "        \n",
              "  <svg xmlns=\"http://www.w3.org/2000/svg\" height=\"24px\"viewBox=\"0 0 24 24\"\n",
              "       width=\"24px\">\n",
              "    <path d=\"M0 0h24v24H0V0z\" fill=\"none\"/>\n",
              "    <path d=\"M18.56 5.44l.94 2.06.94-2.06 2.06-.94-2.06-.94-.94-2.06-.94 2.06-2.06.94zm-11 1L8.5 8.5l.94-2.06 2.06-.94-2.06-.94L8.5 2.5l-.94 2.06-2.06.94zm10 10l.94 2.06.94-2.06 2.06-.94-2.06-.94-.94-2.06-.94 2.06-2.06.94z\"/><path d=\"M17.41 7.96l-1.37-1.37c-.4-.4-.92-.59-1.43-.59-.52 0-1.04.2-1.43.59L10.3 9.45l-7.72 7.72c-.78.78-.78 2.05 0 2.83L4 21.41c.39.39.9.59 1.41.59.51 0 1.02-.2 1.41-.59l7.78-7.78 2.81-2.81c.8-.78.8-2.07 0-2.86zM5.41 20L4 18.59l7.72-7.72 1.47 1.35L5.41 20z\"/>\n",
              "  </svg>\n",
              "      </button>\n",
              "      \n",
              "  <style>\n",
              "    .colab-df-container {\n",
              "      display:flex;\n",
              "      flex-wrap:wrap;\n",
              "      gap: 12px;\n",
              "    }\n",
              "\n",
              "    .colab-df-convert {\n",
              "      background-color: #E8F0FE;\n",
              "      border: none;\n",
              "      border-radius: 50%;\n",
              "      cursor: pointer;\n",
              "      display: none;\n",
              "      fill: #1967D2;\n",
              "      height: 32px;\n",
              "      padding: 0 0 0 0;\n",
              "      width: 32px;\n",
              "    }\n",
              "\n",
              "    .colab-df-convert:hover {\n",
              "      background-color: #E2EBFA;\n",
              "      box-shadow: 0px 1px 2px rgba(60, 64, 67, 0.3), 0px 1px 3px 1px rgba(60, 64, 67, 0.15);\n",
              "      fill: #174EA6;\n",
              "    }\n",
              "\n",
              "    [theme=dark] .colab-df-convert {\n",
              "      background-color: #3B4455;\n",
              "      fill: #D2E3FC;\n",
              "    }\n",
              "\n",
              "    [theme=dark] .colab-df-convert:hover {\n",
              "      background-color: #434B5C;\n",
              "      box-shadow: 0px 1px 3px 1px rgba(0, 0, 0, 0.15);\n",
              "      filter: drop-shadow(0px 1px 2px rgba(0, 0, 0, 0.3));\n",
              "      fill: #FFFFFF;\n",
              "    }\n",
              "  </style>\n",
              "\n",
              "      <script>\n",
              "        const buttonEl =\n",
              "          document.querySelector('#df-0e8e524c-976f-4b95-965e-36ef6e1ac070 button.colab-df-convert');\n",
              "        buttonEl.style.display =\n",
              "          google.colab.kernel.accessAllowed ? 'block' : 'none';\n",
              "\n",
              "        async function convertToInteractive(key) {\n",
              "          const element = document.querySelector('#df-0e8e524c-976f-4b95-965e-36ef6e1ac070');\n",
              "          const dataTable =\n",
              "            await google.colab.kernel.invokeFunction('convertToInteractive',\n",
              "                                                     [key], {});\n",
              "          if (!dataTable) return;\n",
              "\n",
              "          const docLinkHtml = 'Like what you see? Visit the ' +\n",
              "            '<a target=\"_blank\" href=https://colab.research.google.com/notebooks/data_table.ipynb>data table notebook</a>'\n",
              "            + ' to learn more about interactive tables.';\n",
              "          element.innerHTML = '';\n",
              "          dataTable['output_type'] = 'display_data';\n",
              "          await google.colab.output.renderOutput(dataTable, element);\n",
              "          const docLink = document.createElement('div');\n",
              "          docLink.innerHTML = docLinkHtml;\n",
              "          element.appendChild(docLink);\n",
              "        }\n",
              "      </script>\n",
              "    </div>\n",
              "  </div>\n",
              "  "
            ]
          },
          "metadata": {},
          "execution_count": 6
        }
      ]
    },
    {
      "cell_type": "code",
      "source": [
        "X = np.array(data.iloc[:, 1:])\n",
        "bias = np.ones(X.shape[0])[np.newaxis].T\n",
        "X = np.hstack((bias, X))\n",
        "y = np.array(data.iloc[:, 0])"
      ],
      "metadata": {
        "id": "4YzbI3--YBE7"
      },
      "execution_count": 7,
      "outputs": []
    },
    {
      "cell_type": "code",
      "source": [
        "for i in range(y.shape[0]):\n",
        "  if y[i] == 2:\n",
        "    y[i] = -1"
      ],
      "metadata": {
        "id": "yB9Ihx0aspfX"
      },
      "execution_count": 8,
      "outputs": []
    },
    {
      "cell_type": "markdown",
      "source": [
        "## Modelo perceptron de una neurona con descenso de gradiente estocástico"
      ],
      "metadata": {
        "id": "HoKfBzJA75o6"
      }
    },
    {
      "cell_type": "code",
      "source": [
        "perceptron = Perceptron(discrete_perceptron, 'sgd')\n",
        "kf = StratifiedKFold(n_splits = 5)\n",
        "\n",
        "acc = 0\n",
        "errors = np.zeros(100)\n",
        "for train, test in kf.split(X, y):\n",
        "  perceptron.fit(X[train], y[train], X[test], y[test], 100)\n",
        "  y_pred = perceptron.predict(X[test])\n",
        "  acc += accuracy_score(y_pred, y[test])\n",
        "  errors += perceptron.errors\n",
        "\n",
        "errors = errors/5\n",
        "plt.title('Perceptron con descenso de gradiente estocástico')\n",
        "plt.xlabel('Época')\n",
        "plt.ylabel('Precisión')\n",
        "plt.plot(errors)\n",
        "print('Precision del modelo: ', acc/5)"
      ],
      "metadata": {
        "id": "0tWWKeqqxBtp",
        "colab": {
          "base_uri": "https://localhost:8080/",
          "height": 314
        },
        "outputId": "ed5c18c9-5ab9-45b5-8b25-7dad06e2b92a"
      },
      "execution_count": 99,
      "outputs": [
        {
          "output_type": "stream",
          "name": "stdout",
          "text": [
            "Precision del modelo:  0.757663971248877\n"
          ]
        },
        {
          "output_type": "display_data",
          "data": {
            "text/plain": [
              "<Figure size 432x288 with 1 Axes>"
            ],
            "image/png": "[encoded data removed]"
          },
          "metadata": {
            "needs_background": "light"
          }
        }
      ]
    },
    {
      "cell_type": "markdown",
      "source": [
        "## Modelo perceptron de una neurona con descenso de gradiente de lote"
      ],
      "metadata": {
        "id": "xKivIRKI92n3"
      }
    },
    {
      "cell_type": "code",
      "source": [
        "perceptron = Perceptron(discrete_perceptron, 'bgd')\n",
        "kf = StratifiedKFold(n_splits = 5)\n",
        "\n",
        "acc = 0\n",
        "errors = np.zeros(100)\n",
        "for train, test in kf.split(X, y):\n",
        "  perceptron.fit(X[train], y[train], X[test], y[test], 100)\n",
        "  y_pred = perceptron.predict(X[test])\n",
        "  acc += accuracy_score(y_pred, y[test])\n",
        "  errors += perceptron.errors\n",
        "\n",
        "errors = errors/5\n",
        "plt.title('Perceptron con descenso de gradiente de lote')\n",
        "plt.xlabel('Época')\n",
        "plt.ylabel('Precisión')\n",
        "plt.plot(errors)\n",
        "print('Precision del modelo: ', acc/5)"
      ],
      "metadata": {
        "colab": {
          "base_uri": "https://localhost:8080/",
          "height": 314
        },
        "id": "lnbOg2IH9yDd",
        "outputId": "657cbeca-5a81-4066-86c6-038719ea8323"
      },
      "execution_count": 106,
      "outputs": [
        {
          "output_type": "stream",
          "name": "stdout",
          "text": [
            "Precision del modelo:  0.7822102425876011\n"
          ]
        },
        {
          "output_type": "display_data",
          "data": {
            "text/plain": [
              "<Figure size 432x288 with 1 Axes>"
            ],
            "image/png": "[encoded data removed]"
          },
          "metadata": {
            "needs_background": "light"
          }
        }
      ]
    },
    {
      "cell_type": "markdown",
      "source": [
        "## Modelo perceptron de una neurona con descenso de gradiente de mini-lote"
      ],
      "metadata": {
        "id": "lyZgSjz_9_3-"
      }
    },
    {
      "cell_type": "code",
      "source": [
        "perceptron = Perceptron(discrete_perceptron, 'mbgd', 5)\n",
        "kf = StratifiedKFold(n_splits = 5)\n",
        "\n",
        "acc = 0\n",
        "errors = np.zeros(100)\n",
        "for train, test in kf.split(X, y):\n",
        "  perceptron.fit(X[train], y[train], X[test], y[test], 100)\n",
        "  y_pred = perceptron.predict(X[test])\n",
        "  acc += accuracy_score(y_pred, y[test])\n",
        "  errors += perceptron.errors\n",
        "\n",
        "errors = errors/5\n",
        "plt.title('Perceptron con descenso de gradiente de mini-lote')\n",
        "plt.xlabel('Época')\n",
        "plt.ylabel('Precisión')\n",
        "plt.plot(errors)\n",
        "print('Precision del modelo: ', acc/5)"
      ],
      "metadata": {
        "colab": {
          "base_uri": "https://localhost:8080/",
          "height": 314
        },
        "id": "i-T3z7sw98j7",
        "outputId": "a8aaa295-955d-4b31-e23f-d1ee4b2ea8c8"
      },
      "execution_count": 107,
      "outputs": [
        {
          "output_type": "stream",
          "name": "stdout",
          "text": [
            "Precision del modelo:  0.7860017969451931\n"
          ]
        },
        {
          "output_type": "display_data",
          "data": {
            "text/plain": [
              "<Figure size 432x288 with 1 Axes>"
            ],
            "image/png": "[encoded data removed]"
          },
          "metadata": {
            "needs_background": "light"
          }
        }
      ]
    },
    {
      "cell_type": "markdown",
      "source": [
        "## Modelo perceptron de una neurona con descenso de gradiente estocástico utilizando regla de aprendizaje de svm"
      ],
      "metadata": {
        "id": "5k4xX1Z56M3D"
      }
    },
    {
      "cell_type": "code",
      "source": [
        "perceptron = Perceptron(svm, 'sgd')\n",
        "kf = StratifiedKFold(n_splits = 5)\n",
        "\n",
        "acc = 0\n",
        "errors = np.zeros(100)\n",
        "for train, test in kf.split(X, y):\n",
        "  perceptron.fit(X[train], y[train], X[test], y[test], 100)\n",
        "  y_pred = perceptron.predict(X[test])\n",
        "  acc += accuracy_score(y_pred, y[test])\n",
        "  errors += perceptron.errors\n",
        "\n",
        "errors = errors/5\n",
        "plt.title('Perceptron con descenso de gradiente estocástico utilizando regla de aprendizaje de svm')\n",
        "plt.xlabel('Época')\n",
        "plt.ylabel('Precisión')\n",
        "plt.plot(errors)\n",
        "print('Precision del modelo: ', acc/5)"
      ],
      "metadata": {
        "colab": {
          "base_uri": "https://localhost:8080/",
          "height": 314
        },
        "id": "5JnNW4WX-EI2",
        "outputId": "d70f59b4-6d42-4580-fdf4-66e73a9132ac"
      },
      "execution_count": 111,
      "outputs": [
        {
          "output_type": "stream",
          "name": "stdout",
          "text": [
            "Precision del modelo:  0.7235220125786164\n"
          ]
        },
        {
          "output_type": "display_data",
          "data": {
            "text/plain": [
              "<Figure size 432x288 with 1 Axes>"
            ],
            "image/png": "[encoded data removed]"
          },
          "metadata": {
            "needs_background": "light"
          }
        }
      ]
    },
    {
      "cell_type": "markdown",
      "source": [
        "## Modelo perceptron de una neurona con descenso de gradiente de lote utilizando regla de aprendizaje de svm"
      ],
      "metadata": {
        "id": "LIhWTREm6bVx"
      }
    },
    {
      "cell_type": "code",
      "source": [
        "perceptron = Perceptron(svm, 'bgd')\n",
        "kf = StratifiedKFold(n_splits = 5)\n",
        "\n",
        "acc = 0\n",
        "errors = np.zeros(100)\n",
        "for train, test in kf.split(X, y):\n",
        "  perceptron.fit(X[train], y[train], X[test], y[test], 100)\n",
        "  y_pred = perceptron.predict(X[test])\n",
        "  acc += accuracy_score(y_pred, y[test])\n",
        "  errors += perceptron.errors\n",
        "\n",
        "errors = errors/5\n",
        "plt.title('Perceptron con descenso de gradiente de lote utilizando regla de aprendizaje de svm')\n",
        "plt.xlabel('Época')\n",
        "plt.ylabel('Precisión')\n",
        "plt.plot(errors)\n",
        "print('Precision del modelo: ', acc/5)"
      ],
      "metadata": {
        "colab": {
          "base_uri": "https://localhost:8080/",
          "height": 314
        },
        "id": "EUkkdUfL6VJl",
        "outputId": "dd448695-6cae-4324-f417-178da25b73dc"
      },
      "execution_count": 133,
      "outputs": [
        {
          "output_type": "stream",
          "name": "stdout",
          "text": [
            "Precision del modelo:  0.7291284815813117\n"
          ]
        },
        {
          "output_type": "display_data",
          "data": {
            "text/plain": [
              "<Figure size 432x288 with 1 Axes>"
            ],
            "image/png": "[encoded data removed]"
          },
          "metadata": {
            "needs_background": "light"
          }
        }
      ]
    },
    {
      "cell_type": "markdown",
      "source": [
        "## Modelo perceptron de una neurona con descenso de gradiente de mini-lote utilizando regla de aprendizaje de svm"
      ],
      "metadata": {
        "id": "XTN9niPi6kAt"
      }
    },
    {
      "cell_type": "code",
      "source": [
        "perceptron = Perceptron(svm, 'mbgd', 5)\n",
        "kf = StratifiedKFold(n_splits = 5)\n",
        "\n",
        "acc = 0\n",
        "errors = np.zeros(100)\n",
        "for train, test in kf.split(X, y):\n",
        "  perceptron.fit(X[train], y[train], X[test], y[test], 100)\n",
        "  y_pred = perceptron.predict(X[test])\n",
        "  acc += accuracy_score(y_pred, y[test])\n",
        "  errors += perceptron.errors\n",
        "\n",
        "errors = errors/5\n",
        "plt.title('Perceptron con descenso de gradiente de mini-lote utilizando regla de aprendizaje de svm')\n",
        "plt.xlabel('Época')\n",
        "plt.ylabel('Precisión')\n",
        "plt.plot(errors)\n",
        "print('Precision del modelo: ', acc/5)"
      ],
      "metadata": {
        "colab": {
          "base_uri": "https://localhost:8080/",
          "height": 314
        },
        "id": "QWz9fgzZ6h_t",
        "outputId": "a76e8776-c886-48dd-d081-8490c6931c88"
      },
      "execution_count": 116,
      "outputs": [
        {
          "output_type": "stream",
          "name": "stdout",
          "text": [
            "Precision del modelo:  0.750062893081761\n"
          ]
        },
        {
          "output_type": "display_data",
          "data": {
            "text/plain": [
              "<Figure size 432x288 with 1 Axes>"
            ],
            "image/png": "[encoded data removed]"
          },
          "metadata": {
            "needs_background": "light"
          }
        }
      ]
    },
    {
      "cell_type": "code",
      "source": [],
      "metadata": {
        "id": "M7JcryLs_5mB"
      },
      "execution_count": null,
      "outputs": []
    }
  ]
}