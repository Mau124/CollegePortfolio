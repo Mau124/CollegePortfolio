{
 "cells": [
  {
   "cell_type": "code",
   "execution_count": null,
   "metadata": {
    "id": "Oaq0cB7_kFh5"
   },
   "outputs": [],
   "source": [
    "pip install scikeras -q"
   ]
  },
  {
   "cell_type": "code",
   "execution_count": null,
   "metadata": {
    "id": "A5_bQnssu_vX"
   },
   "outputs": [],
   "source": [
    "from sklearn.neural_network import MLPClassifier\n",
    "from sklearn.datasets import load_wine\n",
    "from sklearn.datasets import load_diabetes\n",
    "from sklearn.model_selection import train_test_split, GridSearchCV, KFold, cross_val_score\n",
    "import tensorflow as tf\n",
    "from tensorflow.keras.models import Sequential\n",
    "from tensorflow.keras.layers import Dense\n",
    "from tensorflow.keras.layers import Dropout\n",
    "from tensorflow.keras.constraints import MaxNorm\n",
    "from scikeras.wrappers import KerasRegressor\n",
    "import matplotlib.pyplot as plt\n",
    "from google.colab import drive\n",
    "import numpy as np\n",
    "import pandas as pd\n",
    "import warnings\n",
    "warnings.filterwarnings(\"ignore\")"
   ]
  },
  {
   "cell_type": "markdown",
   "metadata": {
    "id": "8zWMOH5Y5TqW"
   },
   "source": [
    "#Ejercicio 1"
   ]
  },
  {
   "cell_type": "code",
   "execution_count": null,
   "metadata": {
    "colab": {
     "base_uri": "https://localhost:8080/",
     "height": 206
    },
    "id": "33Niz7WNwcow",
    "outputId": "ddbfa3c6-bb16-4936-c125-1d5493f60567"
   },
   "outputs": [
    {
     "data": {
      "text/html": [
       "\n",
       "  <div id=\"df-b6d561d3-f88d-4385-83f9-14c93a1904cc\">\n",
       "    <div class=\"colab-df-container\">\n",
       "      <div>\n",
       "<style scoped>\n",
       "    .dataframe tbody tr th:only-of-type {\n",
       "        vertical-align: middle;\n",
       "    }\n",
       "\n",
       "    .dataframe tbody tr th {\n",
       "        vertical-align: top;\n",
       "    }\n",
       "\n",
       "    .dataframe thead th {\n",
       "        text-align: right;\n",
       "    }\n",
       "</style>\n",
       "<table border=\"1\" class=\"dataframe\">\n",
       "  <thead>\n",
       "    <tr style=\"text-align: right;\">\n",
       "      <th></th>\n",
       "      <th>0</th>\n",
       "      <th>1</th>\n",
       "      <th>2</th>\n",
       "      <th>3</th>\n",
       "      <th>4</th>\n",
       "      <th>5</th>\n",
       "      <th>6</th>\n",
       "      <th>7</th>\n",
       "      <th>8</th>\n",
       "      <th>9</th>\n",
       "      <th>10</th>\n",
       "      <th>11</th>\n",
       "      <th>12</th>\n",
       "    </tr>\n",
       "  </thead>\n",
       "  <tbody>\n",
       "    <tr>\n",
       "      <th>0</th>\n",
       "      <td>14.23</td>\n",
       "      <td>1.71</td>\n",
       "      <td>2.43</td>\n",
       "      <td>15.6</td>\n",
       "      <td>127.0</td>\n",
       "      <td>2.80</td>\n",
       "      <td>3.06</td>\n",
       "      <td>0.28</td>\n",
       "      <td>2.29</td>\n",
       "      <td>5.64</td>\n",
       "      <td>1.04</td>\n",
       "      <td>3.92</td>\n",
       "      <td>1065.0</td>\n",
       "    </tr>\n",
       "    <tr>\n",
       "      <th>1</th>\n",
       "      <td>13.20</td>\n",
       "      <td>1.78</td>\n",
       "      <td>2.14</td>\n",
       "      <td>11.2</td>\n",
       "      <td>100.0</td>\n",
       "      <td>2.65</td>\n",
       "      <td>2.76</td>\n",
       "      <td>0.26</td>\n",
       "      <td>1.28</td>\n",
       "      <td>4.38</td>\n",
       "      <td>1.05</td>\n",
       "      <td>3.40</td>\n",
       "      <td>1050.0</td>\n",
       "    </tr>\n",
       "    <tr>\n",
       "      <th>2</th>\n",
       "      <td>13.16</td>\n",
       "      <td>2.36</td>\n",
       "      <td>2.67</td>\n",
       "      <td>18.6</td>\n",
       "      <td>101.0</td>\n",
       "      <td>2.80</td>\n",
       "      <td>3.24</td>\n",
       "      <td>0.30</td>\n",
       "      <td>2.81</td>\n",
       "      <td>5.68</td>\n",
       "      <td>1.03</td>\n",
       "      <td>3.17</td>\n",
       "      <td>1185.0</td>\n",
       "    </tr>\n",
       "    <tr>\n",
       "      <th>3</th>\n",
       "      <td>14.37</td>\n",
       "      <td>1.95</td>\n",
       "      <td>2.50</td>\n",
       "      <td>16.8</td>\n",
       "      <td>113.0</td>\n",
       "      <td>3.85</td>\n",
       "      <td>3.49</td>\n",
       "      <td>0.24</td>\n",
       "      <td>2.18</td>\n",
       "      <td>7.80</td>\n",
       "      <td>0.86</td>\n",
       "      <td>3.45</td>\n",
       "      <td>1480.0</td>\n",
       "    </tr>\n",
       "    <tr>\n",
       "      <th>4</th>\n",
       "      <td>13.24</td>\n",
       "      <td>2.59</td>\n",
       "      <td>2.87</td>\n",
       "      <td>21.0</td>\n",
       "      <td>118.0</td>\n",
       "      <td>2.80</td>\n",
       "      <td>2.69</td>\n",
       "      <td>0.39</td>\n",
       "      <td>1.82</td>\n",
       "      <td>4.32</td>\n",
       "      <td>1.04</td>\n",
       "      <td>2.93</td>\n",
       "      <td>735.0</td>\n",
       "    </tr>\n",
       "  </tbody>\n",
       "</table>\n",
       "</div>\n",
       "      <button class=\"colab-df-convert\" onclick=\"convertToInteractive('df-b6d561d3-f88d-4385-83f9-14c93a1904cc')\"\n",
       "              title=\"Convert this dataframe to an interactive table.\"\n",
       "              style=\"display:none;\">\n",
       "        \n",
       "  <svg xmlns=\"http://www.w3.org/2000/svg\" height=\"24px\"viewBox=\"0 0 24 24\"\n",
       "       width=\"24px\">\n",
       "    <path d=\"M0 0h24v24H0V0z\" fill=\"none\"/>\n",
       "    <path d=\"M18.56 5.44l.94 2.06.94-2.06 2.06-.94-2.06-.94-.94-2.06-.94 2.06-2.06.94zm-11 1L8.5 8.5l.94-2.06 2.06-.94-2.06-.94L8.5 2.5l-.94 2.06-2.06.94zm10 10l.94 2.06.94-2.06 2.06-.94-2.06-.94-.94-2.06-.94 2.06-2.06.94z\"/><path d=\"M17.41 7.96l-1.37-1.37c-.4-.4-.92-.59-1.43-.59-.52 0-1.04.2-1.43.59L10.3 9.45l-7.72 7.72c-.78.78-.78 2.05 0 2.83L4 21.41c.39.39.9.59 1.41.59.51 0 1.02-.2 1.41-.59l7.78-7.78 2.81-2.81c.8-.78.8-2.07 0-2.86zM5.41 20L4 18.59l7.72-7.72 1.47 1.35L5.41 20z\"/>\n",
       "  </svg>\n",
       "      </button>\n",
       "      \n",
       "  <style>\n",
       "    .colab-df-container {\n",
       "      display:flex;\n",
       "      flex-wrap:wrap;\n",
       "      gap: 12px;\n",
       "    }\n",
       "\n",
       "    .colab-df-convert {\n",
       "      background-color: #E8F0FE;\n",
       "      border: none;\n",
       "      border-radius: 50%;\n",
       "      cursor: pointer;\n",
       "      display: none;\n",
       "      fill: #1967D2;\n",
       "      height: 32px;\n",
       "      padding: 0 0 0 0;\n",
       "      width: 32px;\n",
       "    }\n",
       "\n",
       "    .colab-df-convert:hover {\n",
       "      background-color: #E2EBFA;\n",
       "      box-shadow: 0px 1px 2px rgba(60, 64, 67, 0.3), 0px 1px 3px 1px rgba(60, 64, 67, 0.15);\n",
       "      fill: #174EA6;\n",
       "    }\n",
       "\n",
       "    [theme=dark] .colab-df-convert {\n",
       "      background-color: #3B4455;\n",
       "      fill: #D2E3FC;\n",
       "    }\n",
       "\n",
       "    [theme=dark] .colab-df-convert:hover {\n",
       "      background-color: #434B5C;\n",
       "      box-shadow: 0px 1px 3px 1px rgba(0, 0, 0, 0.15);\n",
       "      filter: drop-shadow(0px 1px 2px rgba(0, 0, 0, 0.3));\n",
       "      fill: #FFFFFF;\n",
       "    }\n",
       "  </style>\n",
       "\n",
       "      <script>\n",
       "        const buttonEl =\n",
       "          document.querySelector('#df-b6d561d3-f88d-4385-83f9-14c93a1904cc button.colab-df-convert');\n",
       "        buttonEl.style.display =\n",
       "          google.colab.kernel.accessAllowed ? 'block' : 'none';\n",
       "\n",
       "        async function convertToInteractive(key) {\n",
       "          const element = document.querySelector('#df-b6d561d3-f88d-4385-83f9-14c93a1904cc');\n",
       "          const dataTable =\n",
       "            await google.colab.kernel.invokeFunction('convertToInteractive',\n",
       "                                                     [key], {});\n",
       "          if (!dataTable) return;\n",
       "\n",
       "          const docLinkHtml = 'Like what you see? Visit the ' +\n",
       "            '<a target=\"_blank\" href=https://colab.research.google.com/notebooks/data_table.ipynb>data table notebook</a>'\n",
       "            + ' to learn more about interactive tables.';\n",
       "          element.innerHTML = '';\n",
       "          dataTable['output_type'] = 'display_data';\n",
       "          await google.colab.output.renderOutput(dataTable, element);\n",
       "          const docLink = document.createElement('div');\n",
       "          docLink.innerHTML = docLinkHtml;\n",
       "          element.appendChild(docLink);\n",
       "        }\n",
       "      </script>\n",
       "    </div>\n",
       "  </div>\n",
       "  "
      ],
      "text/plain": [
       "      0     1     2     3      4     5     6     7     8     9     10    11  \\\n",
       "0  14.23  1.71  2.43  15.6  127.0  2.80  3.06  0.28  2.29  5.64  1.04  3.92   \n",
       "1  13.20  1.78  2.14  11.2  100.0  2.65  2.76  0.26  1.28  4.38  1.05  3.40   \n",
       "2  13.16  2.36  2.67  18.6  101.0  2.80  3.24  0.30  2.81  5.68  1.03  3.17   \n",
       "3  14.37  1.95  2.50  16.8  113.0  3.85  3.49  0.24  2.18  7.80  0.86  3.45   \n",
       "4  13.24  2.59  2.87  21.0  118.0  2.80  2.69  0.39  1.82  4.32  1.04  2.93   \n",
       "\n",
       "       12  \n",
       "0  1065.0  \n",
       "1  1050.0  \n",
       "2  1185.0  \n",
       "3  1480.0  \n",
       "4   735.0  "
      ]
     },
     "execution_count": 3,
     "metadata": {},
     "output_type": "execute_result"
    }
   ],
   "source": [
    "df = load_wine()\n",
    "y = df.target\n",
    "x = pd.DataFrame(df.data)\n",
    "x.head()"
   ]
  },
  {
   "cell_type": "code",
   "execution_count": null,
   "metadata": {
    "colab": {
     "base_uri": "https://localhost:8080/"
    },
    "id": "RmYTNrSFxF2p",
    "outputId": "501c146c-ce7c-494e-e98e-4ce00f045c82"
   },
   "outputs": [
    {
     "data": {
      "text/plain": [
       "array([[0.01894062, 0.77400492, 0.20705446]])"
      ]
     },
     "execution_count": 4,
     "metadata": {},
     "output_type": "execute_result"
    }
   ],
   "source": [
    "#No cross validation\n",
    "X_train, X_test, y_train, y_test = train_test_split(x, y,test_size=0.3, stratify=y,random_state=1)\n",
    "clf = MLPClassifier(hidden_layer_sizes=(20,20), activation='relu', solver='adam',\n",
    "                    alpha=0.001, batch_size='auto', learning_rate='constant',\n",
    "                    learning_rate_init=0.001, power_t=0.5, max_iter=300,\n",
    "                    shuffle=True, random_state=None).fit(X_train, y_train)\n",
    "clf.predict_proba(X_test[:1])"
   ]
  },
  {
   "cell_type": "code",
   "execution_count": null,
   "metadata": {
    "colab": {
     "base_uri": "https://localhost:8080/"
    },
    "id": "EqQ-R7zryHl-",
    "outputId": "0d061456-f582-4c50-f4bd-cc0871d6942a"
   },
   "outputs": [
    {
     "data": {
      "text/plain": [
       "array([1, 1, 2, 1, 1, 0, 0, 0, 1, 0, 2, 0, 0, 0, 2, 1, 2, 1, 0, 2, 0, 1,\n",
       "       1, 0, 1, 2, 1, 1, 1, 1, 2, 1, 0, 1, 1, 0, 2, 1, 1, 1, 0, 2, 0, 0,\n",
       "       1, 2, 0, 1, 2, 0, 1, 0, 0, 2])"
      ]
     },
     "execution_count": 5,
     "metadata": {},
     "output_type": "execute_result"
    }
   ],
   "source": [
    "pred = clf.predict(X_test)\n",
    "pred"
   ]
  },
  {
   "cell_type": "code",
   "execution_count": null,
   "metadata": {
    "colab": {
     "base_uri": "https://localhost:8080/",
     "height": 282
    },
    "id": "AgemWWGByLlj",
    "outputId": "e9090d68-fd61-4e47-e84f-d0b05d04320e"
   },
   "outputs": [
    {
     "data": {
      "text/plain": [
       "<matplotlib.collections.PathCollection at 0x7f072a6a7b50>"
      ]
     },
     "execution_count": 6,
     "metadata": {},
     "output_type": "execute_result"
    },
    {
     "data": {
      "image/png": "[encoded data removed]",
      "text/plain": [
       "<Figure size 432x288 with 1 Axes>"
      ]
     },
     "metadata": {
      "needs_background": "light"
     },
     "output_type": "display_data"
    }
   ],
   "source": [
    "n = list(range(len(pred)))\n",
    "n2 = []\n",
    "for i in range(len(n)):\n",
    "  n2.append(n[i]+.2)\n",
    "plt.scatter(n, y_test)\n",
    "plt.scatter(n2, pred)"
   ]
  },
  {
   "cell_type": "code",
   "execution_count": null,
   "metadata": {
    "colab": {
     "base_uri": "https://localhost:8080/"
    },
    "id": "61fgblEQxqT7",
    "outputId": "197685db-a4e8-48b8-9dba-276693e5552a"
   },
   "outputs": [
    {
     "data": {
      "text/plain": [
       "0.7407407407407407"
      ]
     },
     "execution_count": 7,
     "metadata": {},
     "output_type": "execute_result"
    }
   ],
   "source": [
    "clf.score(X_test, y_test)"
   ]
  },
  {
   "cell_type": "markdown",
   "metadata": {
    "id": "b8XqWJsV8ATP"
   },
   "source": [
    "Primero al probar el modelo sin ningun tipo de cross-validation y con dos capas ocultas de 20 neuronas se obtuvo un resultado del 38.88% de precision.\n",
    "\n"
   ]
  },
  {
   "cell_type": "code",
   "execution_count": null,
   "metadata": {
    "colab": {
     "base_uri": "https://localhost:8080/",
     "height": 282
    },
    "id": "GEoaZ-Ay23Qx",
    "outputId": "a91dd270-a35e-487c-e088-bf2c64b13e83"
   },
   "outputs": [
    {
     "name": "stdout",
     "output_type": "stream",
     "text": [
      "[0.8888888888888888, 0.8888888888888888, 0.4722222222222222, 0.3142857142857143, 0.8857142857142857]\n"
     ]
    },
    {
     "data": {
      "image/png": "[encoded data removed]",
      "text/plain": [
       "<Figure size 432x288 with 1 Axes>"
      ]
     },
     "metadata": {
      "needs_background": "light"
     },
     "output_type": "display_data"
    }
   ],
   "source": [
    "#Cross validation K-fold\n",
    "kf = KFold(n_splits=5, shuffle = True)\n",
    "scores = []\n",
    "for train, test in kf.split(x):\n",
    "  X_train2, X_test2 = x.iloc[train], x.iloc[test]\n",
    "  y_train2, y_test2 = y[train], y[test]\n",
    "  clf = MLPClassifier(hidden_layer_sizes=(20,20), activation='relu', solver='adam',\n",
    "                    alpha=0.001, batch_size='auto', learning_rate='constant',\n",
    "                    learning_rate_init=0.001, power_t=0.5, max_iter=300,\n",
    "                    shuffle=True, random_state=None).fit(X_train2, y_train2)\n",
    "  pred2 = clf.predict(X_test2)\n",
    "  n = list(range(len(pred2)))\n",
    "  plt.scatter(n, y_test2)\n",
    "  plt.scatter(n, pred2)\n",
    "  scores.append(clf.score(X_test2, y_test2))\n",
    "print(scores)"
   ]
  },
  {
   "cell_type": "code",
   "execution_count": null,
   "metadata": {
    "colab": {
     "base_uri": "https://localhost:8080/"
    },
    "id": "SwB2XpeJ8ioE",
    "outputId": "36dbdd99-35d7-47a1-ff57-a94fed44dce4"
   },
   "outputs": [
    {
     "name": "stdout",
     "output_type": "stream",
     "text": [
      "Score promedio: 0.69\n"
     ]
    }
   ],
   "source": [
    "print('Score promedio:',sum(scores)/len(scores))"
   ]
  },
  {
   "cell_type": "markdown",
   "metadata": {
    "id": "Gr7EeAAv9LtC"
   },
   "source": [
    "Utilizando el metodo de k-fold para la validacion cruzada, el modelo aumento a una precision del 41.3%."
   ]
  },
  {
   "cell_type": "code",
   "execution_count": null,
   "metadata": {
    "colab": {
     "base_uri": "https://localhost:8080/"
    },
    "id": "15850WwRwzzy",
    "outputId": "ef3d11f6-8edf-4dfc-caad-626c64c4b83c"
   },
   "outputs": [
    {
     "name": "stdout",
     "output_type": "stream",
     "text": [
      "Split 1\n",
      "Score: 0.306  Numero de capas: 4\n",
      "Score: 0.583  Numero de capas: 8\n",
      "Score: 0.778  Numero de capas: 12\n",
      "Score: 0.806  Numero de capas: 16\n",
      "Score: 0.861  Numero de capas: 20\n",
      "Score: 0.861  Numero de capas: 24\n",
      "Score: 0.944  Numero de capas: 28\n",
      "Score: 0.722  Numero de capas: 32\n",
      "Score: 0.861  Numero de capas: 36\n",
      "Score: 0.611  Numero de capas: 40\n",
      "Score: 0.722  Numero de capas: 44\n",
      "Score: 0.722  Numero de capas: 48\n",
      "Score: 0.694  Numero de capas: 52\n",
      "Score: 0.667  Numero de capas: 56\n",
      "Score: 0.667  Numero de capas: 60\n",
      "Score: 0.667  Numero de capas: 64\n",
      "Score: 0.722  Numero de capas: 68\n",
      "Score: 0.722  Numero de capas: 72\n",
      "Score: 0.722  Numero de capas: 76\n",
      "Score: 0.667  Numero de capas: 80\n",
      "Score: 0.667  Numero de capas: 84\n",
      "Score: 0.722  Numero de capas: 88\n",
      "Score: 0.694  Numero de capas: 92\n",
      "Score: 0.722  Numero de capas: 96\n",
      "Score: 0.583  Numero de capas: 100\n",
      "Split 2\n",
      "Score: 0.472  Numero de capas: 4\n",
      "Score: 0.389  Numero de capas: 8\n",
      "Score: 0.611  Numero de capas: 12\n",
      "Score: 0.778  Numero de capas: 16\n",
      "Score: 0.889  Numero de capas: 20\n",
      "Score: 0.861  Numero de capas: 24\n",
      "Score: 0.5  Numero de capas: 28\n",
      "Score: 0.389  Numero de capas: 32\n",
      "Score: 0.778  Numero de capas: 36\n",
      "Score: 0.722  Numero de capas: 40\n",
      "Score: 0.389  Numero de capas: 44\n",
      "Score: 0.75  Numero de capas: 48\n",
      "Score: 0.694  Numero de capas: 52\n",
      "Score: 0.889  Numero de capas: 56\n",
      "Score: 0.833  Numero de capas: 60\n",
      "Score: 0.75  Numero de capas: 64\n",
      "Score: 0.722  Numero de capas: 68\n",
      "Score: 0.833  Numero de capas: 72\n",
      "Score: 0.889  Numero de capas: 76\n",
      "Score: 0.694  Numero de capas: 80\n",
      "Score: 0.806  Numero de capas: 84\n",
      "Score: 0.722  Numero de capas: 88\n",
      "Score: 0.722  Numero de capas: 92\n",
      "Score: 0.667  Numero de capas: 96\n",
      "Score: 0.778  Numero de capas: 100\n",
      "Split 3\n",
      "Score: 0.361  Numero de capas: 4\n",
      "Score: 0.861  Numero de capas: 8\n",
      "Score: 0.278  Numero de capas: 12\n",
      "Score: 0.556  Numero de capas: 16\n",
      "Score: 0.833  Numero de capas: 20\n",
      "Score: 0.611  Numero de capas: 24\n",
      "Score: 0.944  Numero de capas: 28\n",
      "Score: 0.778  Numero de capas: 32\n",
      "Score: 0.667  Numero de capas: 36\n",
      "Score: 0.944  Numero de capas: 40\n",
      "Score: 0.889  Numero de capas: 44\n",
      "Score: 0.722  Numero de capas: 48\n",
      "Score: 0.667  Numero de capas: 52\n",
      "Score: 0.75  Numero de capas: 56\n",
      "Score: 0.944  Numero de capas: 60\n",
      "Score: 0.639  Numero de capas: 64\n",
      "Score: 0.639  Numero de capas: 68\n",
      "Score: 0.667  Numero de capas: 72\n",
      "Score: 0.667  Numero de capas: 76\n",
      "Score: 0.611  Numero de capas: 80\n",
      "Score: 0.667  Numero de capas: 84\n",
      "Score: 0.694  Numero de capas: 88\n",
      "Score: 0.639  Numero de capas: 92\n",
      "Score: 0.639  Numero de capas: 96\n",
      "Score: 0.639  Numero de capas: 100\n",
      "Split 4\n",
      "Score: 0.6  Numero de capas: 4\n",
      "Score: 0.543  Numero de capas: 8\n",
      "Score: 0.771  Numero de capas: 12\n",
      "Score: 0.571  Numero de capas: 16\n",
      "Score: 0.714  Numero de capas: 20\n",
      "Score: 0.914  Numero de capas: 24\n",
      "Score: 0.286  Numero de capas: 28\n",
      "Score: 0.914  Numero de capas: 32\n",
      "Score: 0.829  Numero de capas: 36\n",
      "Score: 0.657  Numero de capas: 40\n",
      "Score: 0.657  Numero de capas: 44\n",
      "Score: 0.914  Numero de capas: 48\n",
      "Score: 0.629  Numero de capas: 52\n",
      "Score: 0.771  Numero de capas: 56\n",
      "Score: 0.714  Numero de capas: 60\n",
      "Score: 0.829  Numero de capas: 64\n",
      "Score: 0.857  Numero de capas: 68\n",
      "Score: 0.686  Numero de capas: 72\n",
      "Score: 0.714  Numero de capas: 76\n",
      "Score: 0.686  Numero de capas: 80\n",
      "Score: 0.686  Numero de capas: 84\n",
      "Score: 0.686  Numero de capas: 88\n",
      "Score: 0.714  Numero de capas: 92\n",
      "Score: 0.629  Numero de capas: 96\n",
      "Score: 0.714  Numero de capas: 100\n",
      "Split 5\n",
      "Score: 0.114  Numero de capas: 4\n",
      "Score: 0.371  Numero de capas: 8\n",
      "Score: 0.886  Numero de capas: 12\n",
      "Score: 0.857  Numero de capas: 16\n",
      "Score: 0.886  Numero de capas: 20\n",
      "Score: 0.314  Numero de capas: 24\n",
      "Score: 0.343  Numero de capas: 28\n",
      "Score: 0.743  Numero de capas: 32\n",
      "Score: 0.657  Numero de capas: 36\n",
      "Score: 0.914  Numero de capas: 40\n",
      "Score: 0.714  Numero de capas: 44\n",
      "Score: 0.857  Numero de capas: 48\n",
      "Score: 0.657  Numero de capas: 52\n",
      "Score: 0.686  Numero de capas: 56\n",
      "Score: 0.743  Numero de capas: 60\n",
      "Score: 0.629  Numero de capas: 64\n",
      "Score: 0.629  Numero de capas: 68\n",
      "Score: 0.743  Numero de capas: 72\n",
      "Score: 0.629  Numero de capas: 76\n",
      "Score: 0.686  Numero de capas: 80\n",
      "Score: 0.657  Numero de capas: 84\n",
      "Score: 0.6  Numero de capas: 88\n",
      "Score: 0.8  Numero de capas: 92\n",
      "Score: 0.8  Numero de capas: 96\n",
      "Score: 0.657  Numero de capas: 100\n"
     ]
    }
   ],
   "source": [
    "scores_list = []\n",
    "f = 0\n",
    "for train, test in kf.split(x):\n",
    "  f += 1\n",
    "  X_train2, X_test2 = x.iloc[train], x.iloc[test]\n",
    "  y_train2, y_test2 = y[train], y[test]\n",
    "  print('Split',f)\n",
    "  layers = []\n",
    "  scores = []\n",
    "  for i in range(4,104,4):\n",
    "    layers.append(20)\n",
    "    clf = MLPClassifier(hidden_layer_sizes=(layers), activation='relu', solver='adam',\n",
    "                      alpha=0.001, batch_size='auto', learning_rate='constant',\n",
    "                      learning_rate_init=0.001, power_t=0.5, max_iter=300,\n",
    "                      shuffle=True, random_state=None).fit(X_train2, y_train2)\n",
    "    print(\"Score:\",round(clf.score(X_test2, y_test2),3), \" Numero de capas:\", i)\n",
    "    scores.append(round(clf.score(X_test2, y_test2),3))\n",
    "  scores_list.append(scores)"
   ]
  },
  {
   "cell_type": "code",
   "execution_count": null,
   "metadata": {
    "colab": {
     "base_uri": "https://localhost:8080/",
     "height": 320
    },
    "id": "HPIsE8Bi40S_",
    "outputId": "3625c4ff-e606-4b47-a087-26e128c441d8"
   },
   "outputs": [
    {
     "data": {
      "image/png": "[encoded data removed]",
      "text/plain": [
       "<Figure size 1080x360 with 1 Axes>"
      ]
     },
     "metadata": {
      "needs_background": "light"
     },
     "output_type": "display_data"
    }
   ],
   "source": [
    "plt.figure(figsize=(15, 5))\n",
    "for i in range(0,len(scores_list)):\n",
    "  plt.plot(scores_list[i])\n",
    "plt.show()"
   ]
  },
  {
   "cell_type": "markdown",
   "metadata": {
    "id": "a94SsBRB_BHi"
   },
   "source": [
    "En este segundo ejercicio al variar el numero maximo de iteraciones entre 4 y 100 para cada uno de los k-folds, se puede ver que alrededor de las 24 iteraciones empieza a tener menos variacion el modelo, rondando el 80% de precision, pero conforme se siguen aumentando las interaciones se puede ver que el porcentaje desciende un poco."
   ]
  },
  {
   "cell_type": "code",
   "execution_count": null,
   "metadata": {
    "colab": {
     "base_uri": "https://localhost:8080/"
    },
    "id": "Y5KvlUYizbnz",
    "outputId": "3b5941ae-63b4-4255-e50f-f8238560f9ad"
   },
   "outputs": [
    {
     "name": "stdout",
     "output_type": "stream",
     "text": [
      "Score: 0.771 Término de regularización: 0.0001\n",
      "Score: 0.886 Término de regularización: 0.001\n",
      "Score: 0.886 Término de regularización: 0.01\n",
      "Score: 0.886 Término de regularización: 0.1\n",
      "Score: 0.886 Término de regularización: 1.0\n",
      "Score: 0.629 Término de regularización: 10.0\n",
      "Score: 0.743 Término de regularización: 100.0\n"
     ]
    }
   ],
   "source": [
    "m = 0.00001\n",
    "for i in range(0,7):\n",
    "  m = m * 10\n",
    "  clf = MLPClassifier(hidden_layer_sizes=(20,20,20,20,20), activation='relu', solver='adam',\n",
    "                    alpha=m, batch_size='auto', learning_rate='constant',\n",
    "                    learning_rate_init=0.001, power_t=0.5, max_iter=5000,\n",
    "                    shuffle=True, random_state=None).fit(X_train2, y_train2)\n",
    "  print(\"Score:\",round(clf.score(X_test2, y_test2),3), \"Término de regularización:\", m)"
   ]
  },
  {
   "cell_type": "markdown",
   "metadata": {
    "id": "Ih713f8UAzmy"
   },
   "source": [
    "En este ejemplo al estar cambiando el termino de regularizacion, el valor de 0.001 fue el que tuvo el mejor rendimiento, pues al ser mas pequeño hay menos penalizacion al sobreajuste y se produce asi un mejor resultado, pero al aumentar el valor de penalizacion el resultado de score empeora pero a cambio el modelo es mas general."
   ]
  },
  {
   "cell_type": "markdown",
   "metadata": {
    "id": "wgRvARIO5Nnj"
   },
   "source": [
    "#Ejercicio 2"
   ]
  },
  {
   "cell_type": "code",
   "execution_count": null,
   "metadata": {
    "colab": {
     "base_uri": "https://localhost:8080/",
     "height": 223
    },
    "id": "rcvqN8KX5RgS",
    "outputId": "28ed3909-f9cb-4046-e694-ba316abd0caa"
   },
   "outputs": [
    {
     "name": "stdout",
     "output_type": "stream",
     "text": [
      "Mounted at /content/drive\n"
     ]
    },
    {
     "data": {
      "text/html": [
       "\n",
       "  <div id=\"df-edd451ac-56fe-44de-af52-005659fbfc07\">\n",
       "    <div class=\"colab-df-container\">\n",
       "      <div>\n",
       "<style scoped>\n",
       "    .dataframe tbody tr th:only-of-type {\n",
       "        vertical-align: middle;\n",
       "    }\n",
       "\n",
       "    .dataframe tbody tr th {\n",
       "        vertical-align: top;\n",
       "    }\n",
       "\n",
       "    .dataframe thead th {\n",
       "        text-align: right;\n",
       "    }\n",
       "</style>\n",
       "<table border=\"1\" class=\"dataframe\">\n",
       "  <thead>\n",
       "    <tr style=\"text-align: right;\">\n",
       "      <th></th>\n",
       "      <th>0</th>\n",
       "      <th>1</th>\n",
       "      <th>2</th>\n",
       "      <th>3</th>\n",
       "      <th>4</th>\n",
       "      <th>5</th>\n",
       "      <th>6</th>\n",
       "      <th>7</th>\n",
       "      <th>8</th>\n",
       "      <th>9</th>\n",
       "      <th>10</th>\n",
       "      <th>11</th>\n",
       "      <th>12</th>\n",
       "      <th>13</th>\n",
       "      <th>14</th>\n",
       "      <th>15</th>\n",
       "      <th>16</th>\n",
       "      <th>17</th>\n",
       "    </tr>\n",
       "  </thead>\n",
       "  <tbody>\n",
       "    <tr>\n",
       "      <th>0</th>\n",
       "      <td>1.0</td>\n",
       "      <td>8.650000</td>\n",
       "      <td>0.507095</td>\n",
       "      <td>4.410643</td>\n",
       "      <td>2.186973</td>\n",
       "      <td>1.024927</td>\n",
       "      <td>-0.129390</td>\n",
       "      <td>-0.934882</td>\n",
       "      <td>4.844097</td>\n",
       "      <td>0.141823</td>\n",
       "      <td>0.292197</td>\n",
       "      <td>4.797127</td>\n",
       "      <td>26.790544</td>\n",
       "      <td>10.779272</td>\n",
       "      <td>1.630983</td>\n",
       "      <td>8.577229</td>\n",
       "      <td>1.714322</td>\n",
       "      <td>1.708571</td>\n",
       "    </tr>\n",
       "    <tr>\n",
       "      <th>1</th>\n",
       "      <td>1.0</td>\n",
       "      <td>5.986667</td>\n",
       "      <td>0.437240</td>\n",
       "      <td>4.796872</td>\n",
       "      <td>1.816601</td>\n",
       "      <td>0.737577</td>\n",
       "      <td>0.961884</td>\n",
       "      <td>1.738542</td>\n",
       "      <td>5.762690</td>\n",
       "      <td>0.213717</td>\n",
       "      <td>0.756701</td>\n",
       "      <td>4.536075</td>\n",
       "      <td>20.669289</td>\n",
       "      <td>22.196431</td>\n",
       "      <td>9.052902</td>\n",
       "      <td>34.362672</td>\n",
       "      <td>-0.055559</td>\n",
       "      <td>-0.871881</td>\n",
       "    </tr>\n",
       "    <tr>\n",
       "      <th>2</th>\n",
       "      <td>2.0</td>\n",
       "      <td>5.400000</td>\n",
       "      <td>0.590097</td>\n",
       "      <td>3.272865</td>\n",
       "      <td>1.552972</td>\n",
       "      <td>0.298558</td>\n",
       "      <td>0.303162</td>\n",
       "      <td>0.851488</td>\n",
       "      <td>13.885132</td>\n",
       "      <td>2.498995</td>\n",
       "      <td>14.450581</td>\n",
       "      <td>1.365751</td>\n",
       "      <td>0.595322</td>\n",
       "      <td>6.077656</td>\n",
       "      <td>0.929357</td>\n",
       "      <td>2.791653</td>\n",
       "      <td>1.617718</td>\n",
       "      <td>1.241940</td>\n",
       "    </tr>\n",
       "    <tr>\n",
       "      <th>3</th>\n",
       "      <td>1.0</td>\n",
       "      <td>10.653333</td>\n",
       "      <td>0.439906</td>\n",
       "      <td>5.106043</td>\n",
       "      <td>2.416150</td>\n",
       "      <td>1.147192</td>\n",
       "      <td>0.023358</td>\n",
       "      <td>-0.758841</td>\n",
       "      <td>12.330952</td>\n",
       "      <td>1.027062</td>\n",
       "      <td>7.091965</td>\n",
       "      <td>2.704944</td>\n",
       "      <td>6.299525</td>\n",
       "      <td>22.625464</td>\n",
       "      <td>8.696092</td>\n",
       "      <td>66.604375</td>\n",
       "      <td>0.223827</td>\n",
       "      <td>-1.535839</td>\n",
       "    </tr>\n",
       "    <tr>\n",
       "      <th>4</th>\n",
       "      <td>1.0</td>\n",
       "      <td>7.330000</td>\n",
       "      <td>0.346152</td>\n",
       "      <td>4.875915</td>\n",
       "      <td>1.868154</td>\n",
       "      <td>1.100352</td>\n",
       "      <td>0.596716</td>\n",
       "      <td>-0.537479</td>\n",
       "      <td>10.120684</td>\n",
       "      <td>0.692666</td>\n",
       "      <td>3.137352</td>\n",
       "      <td>3.006618</td>\n",
       "      <td>8.894896</td>\n",
       "      <td>8.742954</td>\n",
       "      <td>1.402263</td>\n",
       "      <td>5.290531</td>\n",
       "      <td>1.545937</td>\n",
       "      <td>1.176913</td>\n",
       "    </tr>\n",
       "  </tbody>\n",
       "</table>\n",
       "</div>\n",
       "      <button class=\"colab-df-convert\" onclick=\"convertToInteractive('df-edd451ac-56fe-44de-af52-005659fbfc07')\"\n",
       "              title=\"Convert this dataframe to an interactive table.\"\n",
       "              style=\"display:none;\">\n",
       "        \n",
       "  <svg xmlns=\"http://www.w3.org/2000/svg\" height=\"24px\"viewBox=\"0 0 24 24\"\n",
       "       width=\"24px\">\n",
       "    <path d=\"M0 0h24v24H0V0z\" fill=\"none\"/>\n",
       "    <path d=\"M18.56 5.44l.94 2.06.94-2.06 2.06-.94-2.06-.94-.94-2.06-.94 2.06-2.06.94zm-11 1L8.5 8.5l.94-2.06 2.06-.94-2.06-.94L8.5 2.5l-.94 2.06-2.06.94zm10 10l.94 2.06.94-2.06 2.06-.94-2.06-.94-.94-2.06-.94 2.06-2.06.94z\"/><path d=\"M17.41 7.96l-1.37-1.37c-.4-.4-.92-.59-1.43-.59-.52 0-1.04.2-1.43.59L10.3 9.45l-7.72 7.72c-.78.78-.78 2.05 0 2.83L4 21.41c.39.39.9.59 1.41.59.51 0 1.02-.2 1.41-.59l7.78-7.78 2.81-2.81c.8-.78.8-2.07 0-2.86zM5.41 20L4 18.59l7.72-7.72 1.47 1.35L5.41 20z\"/>\n",
       "  </svg>\n",
       "      </button>\n",
       "      \n",
       "  <style>\n",
       "    .colab-df-container {\n",
       "      display:flex;\n",
       "      flex-wrap:wrap;\n",
       "      gap: 12px;\n",
       "    }\n",
       "\n",
       "    .colab-df-convert {\n",
       "      background-color: #E8F0FE;\n",
       "      border: none;\n",
       "      border-radius: 50%;\n",
       "      cursor: pointer;\n",
       "      display: none;\n",
       "      fill: #1967D2;\n",
       "      height: 32px;\n",
       "      padding: 0 0 0 0;\n",
       "      width: 32px;\n",
       "    }\n",
       "\n",
       "    .colab-df-convert:hover {\n",
       "      background-color: #E2EBFA;\n",
       "      box-shadow: 0px 1px 2px rgba(60, 64, 67, 0.3), 0px 1px 3px 1px rgba(60, 64, 67, 0.15);\n",
       "      fill: #174EA6;\n",
       "    }\n",
       "\n",
       "    [theme=dark] .colab-df-convert {\n",
       "      background-color: #3B4455;\n",
       "      fill: #D2E3FC;\n",
       "    }\n",
       "\n",
       "    [theme=dark] .colab-df-convert:hover {\n",
       "      background-color: #434B5C;\n",
       "      box-shadow: 0px 1px 3px 1px rgba(0, 0, 0, 0.15);\n",
       "      filter: drop-shadow(0px 1px 2px rgba(0, 0, 0, 0.3));\n",
       "      fill: #FFFFFF;\n",
       "    }\n",
       "  </style>\n",
       "\n",
       "      <script>\n",
       "        const buttonEl =\n",
       "          document.querySelector('#df-edd451ac-56fe-44de-af52-005659fbfc07 button.colab-df-convert');\n",
       "        buttonEl.style.display =\n",
       "          google.colab.kernel.accessAllowed ? 'block' : 'none';\n",
       "\n",
       "        async function convertToInteractive(key) {\n",
       "          const element = document.querySelector('#df-edd451ac-56fe-44de-af52-005659fbfc07');\n",
       "          const dataTable =\n",
       "            await google.colab.kernel.invokeFunction('convertToInteractive',\n",
       "                                                     [key], {});\n",
       "          if (!dataTable) return;\n",
       "\n",
       "          const docLinkHtml = 'Like what you see? Visit the ' +\n",
       "            '<a target=\"_blank\" href=https://colab.research.google.com/notebooks/data_table.ipynb>data table notebook</a>'\n",
       "            + ' to learn more about interactive tables.';\n",
       "          element.innerHTML = '';\n",
       "          dataTable['output_type'] = 'display_data';\n",
       "          await google.colab.output.renderOutput(dataTable, element);\n",
       "          const docLink = document.createElement('div');\n",
       "          docLink.innerHTML = docLinkHtml;\n",
       "          element.appendChild(docLink);\n",
       "        }\n",
       "      </script>\n",
       "    </div>\n",
       "  </div>\n",
       "  "
      ],
      "text/plain": [
       "    0          1         2         3         4         5         6         7   \\\n",
       "0  1.0   8.650000  0.507095  4.410643  2.186973  1.024927 -0.129390 -0.934882   \n",
       "1  1.0   5.986667  0.437240  4.796872  1.816601  0.737577  0.961884  1.738542   \n",
       "2  2.0   5.400000  0.590097  3.272865  1.552972  0.298558  0.303162  0.851488   \n",
       "3  1.0  10.653333  0.439906  5.106043  2.416150  1.147192  0.023358 -0.758841   \n",
       "4  1.0   7.330000  0.346152  4.875915  1.868154  1.100352  0.596716 -0.537479   \n",
       "\n",
       "          8         9          10        11         12         13        14  \\\n",
       "0   4.844097  0.141823   0.292197  4.797127  26.790544  10.779272  1.630983   \n",
       "1   5.762690  0.213717   0.756701  4.536075  20.669289  22.196431  9.052902   \n",
       "2  13.885132  2.498995  14.450581  1.365751   0.595322   6.077656  0.929357   \n",
       "3  12.330952  1.027062   7.091965  2.704944   6.299525  22.625464  8.696092   \n",
       "4  10.120684  0.692666   3.137352  3.006618   8.894896   8.742954  1.402263   \n",
       "\n",
       "          15        16        17  \n",
       "0   8.577229  1.714322  1.708571  \n",
       "1  34.362672 -0.055559 -0.871881  \n",
       "2   2.791653  1.617718  1.241940  \n",
       "3  66.604375  0.223827 -1.535839  \n",
       "4   5.290531  1.545937  1.176913  "
      ]
     },
     "execution_count": 13,
     "metadata": {},
     "output_type": "execute_result"
    }
   ],
   "source": [
    "drive.mount('/content/drive')\n",
    "df = pd.read_csv('/content/drive/Shareddrives/Redes neuronales/data/misterious_data_5.txt', sep='\\s', header = None)\n",
    "df\n",
    "df.head()"
   ]
  },
  {
   "cell_type": "code",
   "execution_count": null,
   "metadata": {
    "colab": {
     "base_uri": "https://localhost:8080/"
    },
    "id": "AaD1s0ilkLN4",
    "outputId": "3d9a842c-e333-4131-f36a-11b0f9ab478f"
   },
   "outputs": [
    {
     "data": {
      "text/plain": [
       "(849, 17)"
      ]
     },
     "execution_count": 14,
     "metadata": {},
     "output_type": "execute_result"
    }
   ],
   "source": [
    "x = df.iloc[:, 1:]\n",
    "y = df.iloc[:, 0]\n",
    "x.shape"
   ]
  },
  {
   "cell_type": "code",
   "execution_count": null,
   "metadata": {
    "id": "_jRUmXzMfWKm"
   },
   "outputs": [],
   "source": [
    "from sklearn.neural_network import MLPRegressor\n",
    "\n",
    "mlp = MLPRegressor(activation='relu', solver='adam', max_iter = 100)\n",
    "parameter_space = {\n",
    "    'hidden_layer_sizes': [(20), (20, 20), (20, 20, 20), (20, 20, 20, 20), (20, 20, 20, 20, 20)],\n",
    "    'alpha': [.0001, .0005, .001, .005, .01, .05, .1, .5]\n",
    "}\n",
    "\n",
    "grid = GridSearchCV(mlp, parameter_space, n_jobs=1, cv=3, scoring='neg_mean_squared_error')\n",
    "grid_result = grid.fit(x, y)"
   ]
  },
  {
   "cell_type": "code",
   "execution_count": null,
   "metadata": {
    "colab": {
     "base_uri": "https://localhost:8080/"
    },
    "id": "7iWyKmLdgbNW",
    "outputId": "1423245b-6197-4443-e012-719c0f413328"
   },
   "outputs": [
    {
     "name": "stdout",
     "output_type": "stream",
     "text": [
      "Best: -4431.847884 using {'alpha': 0.1, 'hidden_layer_sizes': (20, 20, 20, 20, 20)}\n",
      "-28537.256037 (976.110287) with: {'alpha': 0.0001, 'hidden_layer_sizes': 20}\n",
      "-26307.071347 (1169.294661) with: {'alpha': 0.0001, 'hidden_layer_sizes': (20, 20)}\n",
      "-23521.489796 (3080.257687) with: {'alpha': 0.0001, 'hidden_layer_sizes': (20, 20, 20)}\n",
      "-5762.574003 (1337.254849) with: {'alpha': 0.0001, 'hidden_layer_sizes': (20, 20, 20, 20)}\n",
      "-4698.289745 (472.650534) with: {'alpha': 0.0001, 'hidden_layer_sizes': (20, 20, 20, 20, 20)}\n",
      "-28570.270687 (1062.628348) with: {'alpha': 0.0005, 'hidden_layer_sizes': 20}\n",
      "-27587.713929 (1050.922122) with: {'alpha': 0.0005, 'hidden_layer_sizes': (20, 20)}\n",
      "-20414.287968 (2689.025522) with: {'alpha': 0.0005, 'hidden_layer_sizes': (20, 20, 20)}\n",
      "-9722.638356 (3808.531183) with: {'alpha': 0.0005, 'hidden_layer_sizes': (20, 20, 20, 20)}\n",
      "-4620.813215 (252.755008) with: {'alpha': 0.0005, 'hidden_layer_sizes': (20, 20, 20, 20, 20)}\n",
      "-28600.478739 (1057.724030) with: {'alpha': 0.001, 'hidden_layer_sizes': 20}\n",
      "-27227.908326 (923.373171) with: {'alpha': 0.001, 'hidden_layer_sizes': (20, 20)}\n",
      "-23444.494844 (2950.359702) with: {'alpha': 0.001, 'hidden_layer_sizes': (20, 20, 20)}\n",
      "-4909.662595 (273.055344) with: {'alpha': 0.001, 'hidden_layer_sizes': (20, 20, 20, 20)}\n",
      "-4568.412006 (124.455967) with: {'alpha': 0.001, 'hidden_layer_sizes': (20, 20, 20, 20, 20)}\n",
      "-28595.106409 (981.163914) with: {'alpha': 0.005, 'hidden_layer_sizes': 20}\n",
      "-27626.417727 (1259.514447) with: {'alpha': 0.005, 'hidden_layer_sizes': (20, 20)}\n",
      "-23078.058539 (1346.478712) with: {'alpha': 0.005, 'hidden_layer_sizes': (20, 20, 20)}\n",
      "-6875.911255 (2081.336707) with: {'alpha': 0.005, 'hidden_layer_sizes': (20, 20, 20, 20)}\n",
      "-4597.840912 (232.789364) with: {'alpha': 0.005, 'hidden_layer_sizes': (20, 20, 20, 20, 20)}\n",
      "-28585.525530 (961.723396) with: {'alpha': 0.01, 'hidden_layer_sizes': 20}\n",
      "-27319.423695 (1067.986311) with: {'alpha': 0.01, 'hidden_layer_sizes': (20, 20)}\n",
      "-17725.075513 (4146.936211) with: {'alpha': 0.01, 'hidden_layer_sizes': (20, 20, 20)}\n",
      "-4762.501101 (215.336744) with: {'alpha': 0.01, 'hidden_layer_sizes': (20, 20, 20, 20)}\n",
      "-4647.105901 (211.350621) with: {'alpha': 0.01, 'hidden_layer_sizes': (20, 20, 20, 20, 20)}\n",
      "-28662.397541 (962.477425) with: {'alpha': 0.05, 'hidden_layer_sizes': 20}\n",
      "-27038.915812 (2020.318254) with: {'alpha': 0.05, 'hidden_layer_sizes': (20, 20)}\n",
      "-21756.268173 (2530.188766) with: {'alpha': 0.05, 'hidden_layer_sizes': (20, 20, 20)}\n",
      "-6855.529030 (1658.056915) with: {'alpha': 0.05, 'hidden_layer_sizes': (20, 20, 20, 20)}\n",
      "-8198.822866 (2265.852297) with: {'alpha': 0.05, 'hidden_layer_sizes': (20, 20, 20, 20, 20)}\n",
      "-28570.534374 (1113.392753) with: {'alpha': 0.1, 'hidden_layer_sizes': 20}\n",
      "-26656.450811 (860.156579) with: {'alpha': 0.1, 'hidden_layer_sizes': (20, 20)}\n",
      "-23001.943097 (793.904070) with: {'alpha': 0.1, 'hidden_layer_sizes': (20, 20, 20)}\n",
      "-9567.394232 (4729.864855) with: {'alpha': 0.1, 'hidden_layer_sizes': (20, 20, 20, 20)}\n",
      "-4431.847884 (445.450102) with: {'alpha': 0.1, 'hidden_layer_sizes': (20, 20, 20, 20, 20)}\n",
      "-28621.554593 (977.566475) with: {'alpha': 0.5, 'hidden_layer_sizes': 20}\n",
      "-27388.104401 (1368.238091) with: {'alpha': 0.5, 'hidden_layer_sizes': (20, 20)}\n",
      "-23450.575791 (2332.945801) with: {'alpha': 0.5, 'hidden_layer_sizes': (20, 20, 20)}\n",
      "-8434.486434 (3011.362844) with: {'alpha': 0.5, 'hidden_layer_sizes': (20, 20, 20, 20)}\n",
      "-6293.542818 (2280.300085) with: {'alpha': 0.5, 'hidden_layer_sizes': (20, 20, 20, 20, 20)}\n"
     ]
    }
   ],
   "source": [
    "# summarize results\n",
    "print(\"Best: %f using %s\" % (grid_result.best_score_, grid_result.best_params_))\n",
    "means = grid_result.cv_results_['mean_test_score']\n",
    "stds = grid_result.cv_results_['std_test_score']\n",
    "params = grid_result.cv_results_['params']\n",
    "for mean, stdev, param in zip(means, stds, params):\n",
    "    print(\"%f (%f) with: %r\" % (mean, stdev, param))"
   ]
  },
  {
   "cell_type": "markdown",
   "metadata": {
    "id": "S5EiN47FQPQt"
   },
   "source": [
    "En este ejercicio la busqueda de hiperparametros con gridsearch hace que el tiempo de ejecucion aumente considerablemente, pero nos ayuda a obtener los parametros perfectos para el modelo. Los cuales en este caso fueron: 5 capas ocultas de 20 neuronas cada con un alpha de .1. Es importante notar en primer lugar que el error utilizado es el error cuadrático medio negativo, esto por motivos técnicos de la librería de sklearn. Otra cosa a notar es que el ejercicio se realizó con tan solo 5 capas ocultas, cada una de 20 neuronas, por lo que no se realizó una gran variabilidad en estos parámetros. Esto se debe a que los tiempos de ejecución incrementan considerablemente al aumentar más capas y parámetros al gridsearch. "
   ]
  },
  {
   "cell_type": "markdown",
   "metadata": {
    "id": "bEmRys2M6M2G"
   },
   "source": [
    "#Ejercicio 3"
   ]
  },
  {
   "cell_type": "code",
   "execution_count": null,
   "metadata": {
    "colab": {
     "base_uri": "https://localhost:8080/",
     "height": 206
    },
    "id": "VlMdnDXr6MFC",
    "outputId": "43fe0d22-99ed-44b2-9789-eb093a2bdf68"
   },
   "outputs": [
    {
     "data": {
      "text/html": [
       "\n",
       "  <div id=\"df-146eca4b-903c-4f81-88eb-3acec6a17704\">\n",
       "    <div class=\"colab-df-container\">\n",
       "      <div>\n",
       "<style scoped>\n",
       "    .dataframe tbody tr th:only-of-type {\n",
       "        vertical-align: middle;\n",
       "    }\n",
       "\n",
       "    .dataframe tbody tr th {\n",
       "        vertical-align: top;\n",
       "    }\n",
       "\n",
       "    .dataframe thead th {\n",
       "        text-align: right;\n",
       "    }\n",
       "</style>\n",
       "<table border=\"1\" class=\"dataframe\">\n",
       "  <thead>\n",
       "    <tr style=\"text-align: right;\">\n",
       "      <th></th>\n",
       "      <th>0</th>\n",
       "      <th>1</th>\n",
       "      <th>2</th>\n",
       "      <th>3</th>\n",
       "      <th>4</th>\n",
       "      <th>5</th>\n",
       "      <th>6</th>\n",
       "      <th>7</th>\n",
       "      <th>8</th>\n",
       "      <th>9</th>\n",
       "    </tr>\n",
       "  </thead>\n",
       "  <tbody>\n",
       "    <tr>\n",
       "      <th>0</th>\n",
       "      <td>0.038076</td>\n",
       "      <td>0.050680</td>\n",
       "      <td>0.061696</td>\n",
       "      <td>0.021872</td>\n",
       "      <td>-0.044223</td>\n",
       "      <td>-0.034821</td>\n",
       "      <td>-0.043401</td>\n",
       "      <td>-0.002592</td>\n",
       "      <td>0.019908</td>\n",
       "      <td>-0.017646</td>\n",
       "    </tr>\n",
       "    <tr>\n",
       "      <th>1</th>\n",
       "      <td>-0.001882</td>\n",
       "      <td>-0.044642</td>\n",
       "      <td>-0.051474</td>\n",
       "      <td>-0.026328</td>\n",
       "      <td>-0.008449</td>\n",
       "      <td>-0.019163</td>\n",
       "      <td>0.074412</td>\n",
       "      <td>-0.039493</td>\n",
       "      <td>-0.068330</td>\n",
       "      <td>-0.092204</td>\n",
       "    </tr>\n",
       "    <tr>\n",
       "      <th>2</th>\n",
       "      <td>0.085299</td>\n",
       "      <td>0.050680</td>\n",
       "      <td>0.044451</td>\n",
       "      <td>-0.005671</td>\n",
       "      <td>-0.045599</td>\n",
       "      <td>-0.034194</td>\n",
       "      <td>-0.032356</td>\n",
       "      <td>-0.002592</td>\n",
       "      <td>0.002864</td>\n",
       "      <td>-0.025930</td>\n",
       "    </tr>\n",
       "    <tr>\n",
       "      <th>3</th>\n",
       "      <td>-0.089063</td>\n",
       "      <td>-0.044642</td>\n",
       "      <td>-0.011595</td>\n",
       "      <td>-0.036656</td>\n",
       "      <td>0.012191</td>\n",
       "      <td>0.024991</td>\n",
       "      <td>-0.036038</td>\n",
       "      <td>0.034309</td>\n",
       "      <td>0.022692</td>\n",
       "      <td>-0.009362</td>\n",
       "    </tr>\n",
       "    <tr>\n",
       "      <th>4</th>\n",
       "      <td>0.005383</td>\n",
       "      <td>-0.044642</td>\n",
       "      <td>-0.036385</td>\n",
       "      <td>0.021872</td>\n",
       "      <td>0.003935</td>\n",
       "      <td>0.015596</td>\n",
       "      <td>0.008142</td>\n",
       "      <td>-0.002592</td>\n",
       "      <td>-0.031991</td>\n",
       "      <td>-0.046641</td>\n",
       "    </tr>\n",
       "  </tbody>\n",
       "</table>\n",
       "</div>\n",
       "      <button class=\"colab-df-convert\" onclick=\"convertToInteractive('df-146eca4b-903c-4f81-88eb-3acec6a17704')\"\n",
       "              title=\"Convert this dataframe to an interactive table.\"\n",
       "              style=\"display:none;\">\n",
       "        \n",
       "  <svg xmlns=\"http://www.w3.org/2000/svg\" height=\"24px\"viewBox=\"0 0 24 24\"\n",
       "       width=\"24px\">\n",
       "    <path d=\"M0 0h24v24H0V0z\" fill=\"none\"/>\n",
       "    <path d=\"M18.56 5.44l.94 2.06.94-2.06 2.06-.94-2.06-.94-.94-2.06-.94 2.06-2.06.94zm-11 1L8.5 8.5l.94-2.06 2.06-.94-2.06-.94L8.5 2.5l-.94 2.06-2.06.94zm10 10l.94 2.06.94-2.06 2.06-.94-2.06-.94-.94-2.06-.94 2.06-2.06.94z\"/><path d=\"M17.41 7.96l-1.37-1.37c-.4-.4-.92-.59-1.43-.59-.52 0-1.04.2-1.43.59L10.3 9.45l-7.72 7.72c-.78.78-.78 2.05 0 2.83L4 21.41c.39.39.9.59 1.41.59.51 0 1.02-.2 1.41-.59l7.78-7.78 2.81-2.81c.8-.78.8-2.07 0-2.86zM5.41 20L4 18.59l7.72-7.72 1.47 1.35L5.41 20z\"/>\n",
       "  </svg>\n",
       "      </button>\n",
       "      \n",
       "  <style>\n",
       "    .colab-df-container {\n",
       "      display:flex;\n",
       "      flex-wrap:wrap;\n",
       "      gap: 12px;\n",
       "    }\n",
       "\n",
       "    .colab-df-convert {\n",
       "      background-color: #E8F0FE;\n",
       "      border: none;\n",
       "      border-radius: 50%;\n",
       "      cursor: pointer;\n",
       "      display: none;\n",
       "      fill: #1967D2;\n",
       "      height: 32px;\n",
       "      padding: 0 0 0 0;\n",
       "      width: 32px;\n",
       "    }\n",
       "\n",
       "    .colab-df-convert:hover {\n",
       "      background-color: #E2EBFA;\n",
       "      box-shadow: 0px 1px 2px rgba(60, 64, 67, 0.3), 0px 1px 3px 1px rgba(60, 64, 67, 0.15);\n",
       "      fill: #174EA6;\n",
       "    }\n",
       "\n",
       "    [theme=dark] .colab-df-convert {\n",
       "      background-color: #3B4455;\n",
       "      fill: #D2E3FC;\n",
       "    }\n",
       "\n",
       "    [theme=dark] .colab-df-convert:hover {\n",
       "      background-color: #434B5C;\n",
       "      box-shadow: 0px 1px 3px 1px rgba(0, 0, 0, 0.15);\n",
       "      filter: drop-shadow(0px 1px 2px rgba(0, 0, 0, 0.3));\n",
       "      fill: #FFFFFF;\n",
       "    }\n",
       "  </style>\n",
       "\n",
       "      <script>\n",
       "        const buttonEl =\n",
       "          document.querySelector('#df-146eca4b-903c-4f81-88eb-3acec6a17704 button.colab-df-convert');\n",
       "        buttonEl.style.display =\n",
       "          google.colab.kernel.accessAllowed ? 'block' : 'none';\n",
       "\n",
       "        async function convertToInteractive(key) {\n",
       "          const element = document.querySelector('#df-146eca4b-903c-4f81-88eb-3acec6a17704');\n",
       "          const dataTable =\n",
       "            await google.colab.kernel.invokeFunction('convertToInteractive',\n",
       "                                                     [key], {});\n",
       "          if (!dataTable) return;\n",
       "\n",
       "          const docLinkHtml = 'Like what you see? Visit the ' +\n",
       "            '<a target=\"_blank\" href=https://colab.research.google.com/notebooks/data_table.ipynb>data table notebook</a>'\n",
       "            + ' to learn more about interactive tables.';\n",
       "          element.innerHTML = '';\n",
       "          dataTable['output_type'] = 'display_data';\n",
       "          await google.colab.output.renderOutput(dataTable, element);\n",
       "          const docLink = document.createElement('div');\n",
       "          docLink.innerHTML = docLinkHtml;\n",
       "          element.appendChild(docLink);\n",
       "        }\n",
       "      </script>\n",
       "    </div>\n",
       "  </div>\n",
       "  "
      ],
      "text/plain": [
       "          0         1         2         3         4         5         6  \\\n",
       "0  0.038076  0.050680  0.061696  0.021872 -0.044223 -0.034821 -0.043401   \n",
       "1 -0.001882 -0.044642 -0.051474 -0.026328 -0.008449 -0.019163  0.074412   \n",
       "2  0.085299  0.050680  0.044451 -0.005671 -0.045599 -0.034194 -0.032356   \n",
       "3 -0.089063 -0.044642 -0.011595 -0.036656  0.012191  0.024991 -0.036038   \n",
       "4  0.005383 -0.044642 -0.036385  0.021872  0.003935  0.015596  0.008142   \n",
       "\n",
       "          7         8         9  \n",
       "0 -0.002592  0.019908 -0.017646  \n",
       "1 -0.039493 -0.068330 -0.092204  \n",
       "2 -0.002592  0.002864 -0.025930  \n",
       "3  0.034309  0.022692 -0.009362  \n",
       "4 -0.002592 -0.031991 -0.046641  "
      ]
     },
     "execution_count": 22,
     "metadata": {},
     "output_type": "execute_result"
    }
   ],
   "source": [
    "from sklearn.neural_network import MLPRegressor\n",
    "df = load_diabetes()\n",
    "y = df.target\n",
    "x = pd.DataFrame(df.data)\n",
    "x.head()"
   ]
  },
  {
   "cell_type": "code",
   "execution_count": null,
   "metadata": {
    "colab": {
     "base_uri": "https://localhost:8080/"
    },
    "id": "k52YR4x8p5Hh",
    "outputId": "576a6a48-130a-437e-bb35-e3e7d929c4f5"
   },
   "outputs": [
    {
     "data": {
      "text/plain": [
       "array([151.,  75., 141., 206., 135.,  97., 138.,  63., 110., 310.])"
      ]
     },
     "execution_count": 23,
     "metadata": {},
     "output_type": "execute_result"
    }
   ],
   "source": [
    "y[0:10]"
   ]
  },
  {
   "cell_type": "code",
   "execution_count": null,
   "metadata": {
    "colab": {
     "base_uri": "https://localhost:8080/"
    },
    "id": "GG5kB1Reo9l3",
    "outputId": "08ca0477-d461-4a4b-d92a-3bd382a7b3f1"
   },
   "outputs": [
    {
     "data": {
      "text/plain": [
       "0.3620307017406331"
      ]
     },
     "execution_count": 24,
     "metadata": {},
     "output_type": "execute_result"
    }
   ],
   "source": [
    "X_train, X_test, y_train, y_test = train_test_split(x, y,test_size=0.3,random_state=1)\n",
    "clf = MLPRegressor(hidden_layer_sizes=(20,20,20,20), activation='relu', solver='adam',\n",
    "                    alpha=.001, batch_size='auto', learning_rate='constant',\n",
    "                    learning_rate_init=.05, power_t=0.5, max_iter=300,\n",
    "                    shuffle=True, random_state=None).fit(X_train, y_train)\n",
    "pred = clf.predict(X_test)\n",
    "clf.score(X_test, y_test)"
   ]
  },
  {
   "cell_type": "code",
   "execution_count": null,
   "metadata": {
    "colab": {
     "base_uri": "https://localhost:8080/"
    },
    "id": "-iL7eq_y6neK",
    "outputId": "d6a921fb-d7ed-4f44-c233-891c3f07be62"
   },
   "outputs": [
    {
     "name": "stdout",
     "output_type": "stream",
     "text": [
      "Split 1\n",
      "Score: -4.286  Numero de epocas: 10\n",
      "Score: -3.73  Numero de epocas: 20\n",
      "Score: -3.47  Numero de epocas: 30\n",
      "Score: 0.065  Numero de epocas: 40\n",
      "Score: 0.022  Numero de epocas: 50\n",
      "Score: 0.164  Numero de epocas: 60\n",
      "Score: 0.239  Numero de epocas: 70\n",
      "Score: 0.288  Numero de epocas: 80\n",
      "Score: 0.311  Numero de epocas: 90\n",
      "Score: 0.379  Numero de epocas: 100\n",
      "Score: 0.411  Numero de epocas: 110\n",
      "Score: 0.424  Numero de epocas: 120\n",
      "Score: 0.481  Numero de epocas: 130\n",
      "Score: 0.51  Numero de epocas: 140\n",
      "Score: 0.462  Numero de epocas: 150\n",
      "Score: 0.501  Numero de epocas: 160\n",
      "Score: 0.514  Numero de epocas: 170\n",
      "Score: 0.516  Numero de epocas: 180\n",
      "Score: 0.538  Numero de epocas: 190\n",
      "Score: 0.526  Numero de epocas: 200\n",
      "Split 2\n",
      "Score: -3.94  Numero de epocas: 10\n",
      "Score: -3.832  Numero de epocas: 20\n",
      "Score: -3.09  Numero de epocas: 30\n",
      "Score: -0.691  Numero de epocas: 40\n",
      "Score: 0.166  Numero de epocas: 50\n",
      "Score: 0.374  Numero de epocas: 60\n",
      "Score: 0.403  Numero de epocas: 70\n",
      "Score: 0.376  Numero de epocas: 80\n",
      "Score: 0.464  Numero de epocas: 90\n",
      "Score: 0.47  Numero de epocas: 100\n",
      "Score: 0.482  Numero de epocas: 110\n",
      "Score: 0.499  Numero de epocas: 120\n",
      "Score: 0.53  Numero de epocas: 130\n",
      "Score: 0.56  Numero de epocas: 140\n",
      "Score: 0.54  Numero de epocas: 150\n",
      "Score: 0.554  Numero de epocas: 160\n",
      "Score: 0.573  Numero de epocas: 170\n",
      "Score: 0.554  Numero de epocas: 180\n",
      "Score: 0.562  Numero de epocas: 190\n",
      "Score: 0.579  Numero de epocas: 200\n",
      "Split 3\n",
      "Score: -4.059  Numero de epocas: 10\n",
      "Score: -3.857  Numero de epocas: 20\n",
      "Score: -1.74  Numero de epocas: 30\n",
      "Score: -2.962  Numero de epocas: 40\n",
      "Score: -0.255  Numero de epocas: 50\n",
      "Score: 0.148  Numero de epocas: 60\n",
      "Score: 0.117  Numero de epocas: 70\n",
      "Score: 0.208  Numero de epocas: 80\n",
      "Score: 0.183  Numero de epocas: 90\n",
      "Score: 0.281  Numero de epocas: 100\n",
      "Score: 0.284  Numero de epocas: 110\n",
      "Score: 0.305  Numero de epocas: 120\n",
      "Score: 0.304  Numero de epocas: 130\n",
      "Score: 0.319  Numero de epocas: 140\n",
      "Score: 0.376  Numero de epocas: 150\n",
      "Score: 0.357  Numero de epocas: 160\n",
      "Score: 0.372  Numero de epocas: 170\n",
      "Score: 0.38  Numero de epocas: 180\n",
      "Score: 0.388  Numero de epocas: 190\n",
      "Score: 0.396  Numero de epocas: 200\n",
      "Split 4\n",
      "Score: -3.559  Numero de epocas: 10\n",
      "Score: -3.182  Numero de epocas: 20\n",
      "Score: -3.197  Numero de epocas: 30\n",
      "Score: -0.164  Numero de epocas: 40\n",
      "Score: -0.081  Numero de epocas: 50\n",
      "Score: 0.212  Numero de epocas: 60\n",
      "Score: -0.12  Numero de epocas: 70\n",
      "Score: 0.252  Numero de epocas: 80\n",
      "Score: 0.387  Numero de epocas: 90\n",
      "Score: 0.449  Numero de epocas: 100\n",
      "Score: 0.417  Numero de epocas: 110\n",
      "Score: 0.443  Numero de epocas: 120\n",
      "Score: 0.402  Numero de epocas: 130\n",
      "Score: 0.469  Numero de epocas: 140\n",
      "Score: 0.471  Numero de epocas: 150\n",
      "Score: 0.485  Numero de epocas: 160\n",
      "Score: 0.491  Numero de epocas: 170\n",
      "Score: 0.476  Numero de epocas: 180\n",
      "Score: 0.48  Numero de epocas: 190\n",
      "Score: 0.484  Numero de epocas: 200\n",
      "Split 5\n",
      "Score: -3.79  Numero de epocas: 10\n",
      "Score: -3.361  Numero de epocas: 20\n",
      "Score: -3.357  Numero de epocas: 30\n",
      "Score: -1.065  Numero de epocas: 40\n",
      "Score: -0.269  Numero de epocas: 50\n",
      "Score: 0.174  Numero de epocas: 60\n",
      "Score: 0.198  Numero de epocas: 70\n",
      "Score: 0.171  Numero de epocas: 80\n",
      "Score: 0.085  Numero de epocas: 90\n",
      "Score: 0.224  Numero de epocas: 100\n",
      "Score: 0.199  Numero de epocas: 110\n",
      "Score: 0.201  Numero de epocas: 120\n",
      "Score: 0.198  Numero de epocas: 130\n",
      "Score: 0.28  Numero de epocas: 140\n",
      "Score: 0.276  Numero de epocas: 150\n",
      "Score: 0.305  Numero de epocas: 160\n",
      "Score: 0.295  Numero de epocas: 170\n",
      "Score: 0.289  Numero de epocas: 180\n",
      "Score: 0.306  Numero de epocas: 190\n",
      "Score: 0.313  Numero de epocas: 200\n"
     ]
    }
   ],
   "source": [
    "scores_list = []\n",
    "j = 0\n",
    "for train, test in kf.split(x):\n",
    "  j += 1\n",
    "  X_train, X_test = x.iloc[train], x.iloc[test]\n",
    "  y_train, y_test = y[train], y[test]\n",
    "  print('Split',j)\n",
    "  epoch = 0\n",
    "  scores = []\n",
    "  for i in range(10,210,10):\n",
    "    epoch += 5\n",
    "    clf = MLPRegressor(hidden_layer_sizes=(20,20,20,20,20), activation='relu', solver='adam',\n",
    "                      alpha=0.001, batch_size='auto', learning_rate='constant',\n",
    "                      learning_rate_init=0.005, power_t=0.5, max_iter=epoch,\n",
    "                      shuffle=True, random_state=None).fit(X_train, y_train)\n",
    "    print(\"Score:\",round(clf.score(X_test, y_test),3), \" Numero de epocas:\", i)\n",
    "    scores.append(round(clf.score(X_test, y_test),3))\n",
    "  scores_list.append(scores)"
   ]
  },
  {
   "cell_type": "code",
   "execution_count": null,
   "metadata": {
    "colab": {
     "base_uri": "https://localhost:8080/",
     "height": 320
    },
    "id": "gkJHp8-6rcCF",
    "outputId": "5156d8a2-a7af-4900-814d-39fe799da549"
   },
   "outputs": [
    {
     "data": {
      "image/png": "[encoded data removed]",
      "text/plain": [
       "<Figure size 1080x360 with 1 Axes>"
      ]
     },
     "metadata": {
      "needs_background": "light"
     },
     "output_type": "display_data"
    }
   ],
   "source": [
    "plt.figure(figsize=(15, 5))\n",
    "for i in range(0,len(scores_list)):\n",
    "  plt.plot(scores_list[i])\n",
    "plt.show()"
   ]
  },
  {
   "cell_type": "markdown",
   "metadata": {
    "id": "OqgtohrZQ-IV"
   },
   "source": [
    "En este problema de regresion no se pudo obtener un resultado mayor al 50%, pero esto es debido a que la regresion es mas dificil que la clasificacion al tener mas varianza entre los datos. En cuanto a la convergencia este modelo lo hizo de manera muy rapida, pues despues de las 30 iteraciones deja de haber una mejora considerable en el rendimiento."
   ]
  },
  {
   "cell_type": "code",
   "execution_count": null,
   "metadata": {
    "colab": {
     "base_uri": "https://localhost:8080/"
    },
    "id": "TpfyoU8js6GF",
    "outputId": "dfc9f125-2a8c-4dc2-e830-592c849ff334"
   },
   "outputs": [
    {
     "name": "stdout",
     "output_type": "stream",
     "text": [
      "Split 1\n",
      "Score: 0.421  Tamaño de lote: 10\n",
      "Score: 0.422  Tamaño de lote: 20\n",
      "Score: 0.174  Tamaño de lote: 30\n",
      "Score: 0.418  Tamaño de lote: 40\n",
      "Score: 0.387  Tamaño de lote: 50\n",
      "Score: 0.352  Tamaño de lote: 60\n",
      "Score: 0.219  Tamaño de lote: 70\n",
      "Score: 0.363  Tamaño de lote: 80\n",
      "Score: 0.425  Tamaño de lote: 90\n",
      "Score: 0.438  Tamaño de lote: 100\n",
      "Score: 0.426  Tamaño de lote: 110\n",
      "Score: 0.393  Tamaño de lote: 120\n",
      "Score: 0.437  Tamaño de lote: 130\n",
      "Score: 0.373  Tamaño de lote: 140\n",
      "Score: 0.448  Tamaño de lote: 150\n",
      "Score: 0.36  Tamaño de lote: 160\n",
      "Score: 0.395  Tamaño de lote: 170\n",
      "Score: 0.346  Tamaño de lote: 180\n",
      "Score: 0.406  Tamaño de lote: 190\n",
      "Score: 0.38  Tamaño de lote: 200\n",
      "Split 2\n",
      "Score: 0.413  Tamaño de lote: 10\n",
      "Score: 0.508  Tamaño de lote: 20\n",
      "Score: 0.508  Tamaño de lote: 30\n",
      "Score: 0.411  Tamaño de lote: 40\n",
      "Score: 0.203  Tamaño de lote: 50\n",
      "Score: 0.519  Tamaño de lote: 60\n",
      "Score: 0.371  Tamaño de lote: 70\n",
      "Score: 0.474  Tamaño de lote: 80\n",
      "Score: 0.521  Tamaño de lote: 90\n",
      "Score: 0.476  Tamaño de lote: 100\n",
      "Score: 0.54  Tamaño de lote: 110\n",
      "Score: 0.486  Tamaño de lote: 120\n",
      "Score: 0.508  Tamaño de lote: 130\n",
      "Score: 0.535  Tamaño de lote: 140\n",
      "Score: 0.511  Tamaño de lote: 150\n",
      "Score: 0.495  Tamaño de lote: 160\n",
      "Score: 0.52  Tamaño de lote: 170\n",
      "Score: 0.522  Tamaño de lote: 180\n",
      "Score: 0.522  Tamaño de lote: 190\n",
      "Score: 0.511  Tamaño de lote: 200\n",
      "Split 3\n",
      "Score: 0.365  Tamaño de lote: 10\n",
      "Score: 0.376  Tamaño de lote: 20\n",
      "Score: 0.423  Tamaño de lote: 30\n",
      "Score: 0.428  Tamaño de lote: 40\n",
      "Score: 0.384  Tamaño de lote: 50\n",
      "Score: 0.375  Tamaño de lote: 60\n",
      "Score: 0.311  Tamaño de lote: 70\n",
      "Score: 0.355  Tamaño de lote: 80\n",
      "Score: 0.39  Tamaño de lote: 90\n",
      "Score: 0.382  Tamaño de lote: 100\n",
      "Score: 0.421  Tamaño de lote: 110\n",
      "Score: 0.419  Tamaño de lote: 120\n",
      "Score: 0.433  Tamaño de lote: 130\n",
      "Score: 0.367  Tamaño de lote: 140\n",
      "Score: 0.413  Tamaño de lote: 150\n",
      "Score: 0.429  Tamaño de lote: 160\n",
      "Score: 0.409  Tamaño de lote: 170\n",
      "Score: 0.376  Tamaño de lote: 180\n",
      "Score: 0.427  Tamaño de lote: 190\n",
      "Score: 0.407  Tamaño de lote: 200\n",
      "Split 4\n",
      "Score: 0.491  Tamaño de lote: 10\n",
      "Score: 0.481  Tamaño de lote: 20\n",
      "Score: 0.462  Tamaño de lote: 30\n",
      "Score: 0.48  Tamaño de lote: 40\n",
      "Score: 0.468  Tamaño de lote: 50\n",
      "Score: 0.504  Tamaño de lote: 60\n",
      "Score: 0.376  Tamaño de lote: 70\n",
      "Score: 0.486  Tamaño de lote: 80\n",
      "Score: 0.444  Tamaño de lote: 90\n",
      "Score: 0.481  Tamaño de lote: 100\n",
      "Score: 0.507  Tamaño de lote: 110\n",
      "Score: 0.465  Tamaño de lote: 120\n",
      "Score: 0.501  Tamaño de lote: 130\n",
      "Score: 0.504  Tamaño de lote: 140\n",
      "Score: 0.454  Tamaño de lote: 150\n",
      "Score: 0.487  Tamaño de lote: 160\n",
      "Score: 0.479  Tamaño de lote: 170\n",
      "Score: 0.477  Tamaño de lote: 180\n",
      "Score: 0.494  Tamaño de lote: 190\n",
      "Score: 0.488  Tamaño de lote: 200\n",
      "Split 5\n",
      "Score: 0.529  Tamaño de lote: 10\n",
      "Score: 0.621  Tamaño de lote: 20\n",
      "Score: 0.592  Tamaño de lote: 30\n",
      "Score: 0.593  Tamaño de lote: 40\n",
      "Score: 0.433  Tamaño de lote: 50\n",
      "Score: 0.387  Tamaño de lote: 60\n",
      "Score: 0.5  Tamaño de lote: 70\n",
      "Score: 0.514  Tamaño de lote: 80\n",
      "Score: 0.523  Tamaño de lote: 90\n",
      "Score: 0.617  Tamaño de lote: 100\n",
      "Score: 0.625  Tamaño de lote: 110\n",
      "Score: 0.548  Tamaño de lote: 120\n",
      "Score: 0.609  Tamaño de lote: 130\n",
      "Score: 0.575  Tamaño de lote: 140\n",
      "Score: 0.637  Tamaño de lote: 150\n",
      "Score: 0.6  Tamaño de lote: 160\n",
      "Score: 0.55  Tamaño de lote: 170\n",
      "Score: 0.633  Tamaño de lote: 180\n",
      "Score: 0.609  Tamaño de lote: 190\n",
      "Score: 0.585  Tamaño de lote: 200\n"
     ]
    }
   ],
   "source": [
    "scores_list = []\n",
    "j = 0\n",
    "for train, test in kf.split(x):\n",
    "  j += 1\n",
    "  X_train, X_test = x.iloc[train], x.iloc[test]\n",
    "  y_train, y_test = y[train], y[test]\n",
    "  print('Split',j)\n",
    "  batch = 0\n",
    "  scores = []\n",
    "  for i in range(10,210,10):\n",
    "    batch += 10\n",
    "    clf = MLPRegressor(hidden_layer_sizes=(20,20,20,20,20), activation='relu', solver='adam',\n",
    "                      alpha=0.001, batch_size=batch, learning_rate='constant',\n",
    "                      learning_rate_init=0.05, power_t=0.5, max_iter=150,\n",
    "                      shuffle=True, random_state=None).fit(X_train, y_train)\n",
    "    print(\"Score:\",round(clf.score(X_test, y_test),3), \" Tamaño de lote:\", i)\n",
    "    scores.append(round(clf.score(X_test, y_test),3))\n",
    "  scores_list.append(scores)"
   ]
  },
  {
   "cell_type": "code",
   "execution_count": null,
   "metadata": {
    "colab": {
     "base_uri": "https://localhost:8080/",
     "height": 320
    },
    "id": "7S1vCxadtRa-",
    "outputId": "18e4a99a-f9d4-4850-95d0-aeec65f2b5b0"
   },
   "outputs": [
    {
     "data": {
      "image/png": "[encoded data removed]",
      "text/plain": [
       "<Figure size 1080x360 with 1 Axes>"
      ]
     },
     "metadata": {
      "needs_background": "light"
     },
     "output_type": "display_data"
    }
   ],
   "source": [
    "plt.figure(figsize=(15, 5))\n",
    "for i in range(0,len(scores_list)):\n",
    "  plt.plot(scores_list[i])\n",
    "plt.show()"
   ]
  },
  {
   "cell_type": "markdown",
   "metadata": {
    "id": "hViq2A9fSd17"
   },
   "source": [
    "Por otro lado al intentar modificar el tamaño de lote muestra mas varainza en sus resultados, pues se puede observar que puede drasticamente impactar el resultado de forma negativa, pero es dificil de que este parametro mejore el modelo. Un numero grande de lotes muestra una mejor estabilidad en los resultados."
   ]
  }
 ],
 "metadata": {
  "colab": {
   "provenance": []
  },
  "kernelspec": {
   "display_name": "Python 3 (ipykernel)",
   "language": "python",
   "name": "python3"
  },
  "language_info": {
   "codemirror_mode": {
    "name": "ipython",
    "version": 3
   },
   "file_extension": ".py",
   "mimetype": "text/x-python",
   "name": "python",
   "nbconvert_exporter": "python",
   "pygments_lexer": "ipython3",
   "version": "3.8.8"
  }
 },
 "nbformat": 4,
 "nbformat_minor": 1
}
